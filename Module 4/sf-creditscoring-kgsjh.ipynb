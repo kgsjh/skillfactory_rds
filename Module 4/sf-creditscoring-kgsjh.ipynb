{
 "cells": [
  {
   "cell_type": "markdown",
   "metadata": {
    "papermill": {
     "duration": 0.072064,
     "end_time": "2021-02-10T11:11:09.627462",
     "exception": false,
     "start_time": "2021-02-10T11:11:09.555398",
     "status": "completed"
    },
    "tags": []
   },
   "source": [
    "### Проект 3. Компьютер говорит «Нет» "
   ]
  },
  {
   "cell_type": "code",
   "execution_count": 1,
   "metadata": {
    "execution": {
     "iopub.execute_input": "2021-02-10T11:11:09.780542Z",
     "iopub.status.busy": "2021-02-10T11:11:09.779793Z",
     "iopub.status.idle": "2021-02-10T11:11:11.873168Z",
     "shell.execute_reply": "2021-02-10T11:11:11.873921Z"
    },
    "papermill": {
     "duration": 2.177266,
     "end_time": "2021-02-10T11:11:11.874469",
     "exception": false,
     "start_time": "2021-02-10T11:11:09.697203",
     "status": "completed"
    },
    "tags": []
   },
   "outputs": [
    {
     "name": "stdout",
     "output_type": "stream",
     "text": [
      "/kaggle/input/sf-dst-scoring/sample_submission.csv\n",
      "/kaggle/input/sf-dst-scoring/train.csv\n",
      "/kaggle/input/sf-dst-scoring/test.csv\n"
     ]
    }
   ],
   "source": [
    "import pandas as pd\n",
    "import pandas_profiling\n",
    "import numpy as np\n",
    "import matplotlib.pyplot as plt\n",
    "import seaborn as sns \n",
    "%matplotlib inline\n",
    "from sklearn.feature_selection import f_classif, mutual_info_classif\n",
    "from sklearn.preprocessing import LabelEncoder, OneHotEncoder, StandardScaler\n",
    "from sklearn.preprocessing import PolynomialFeatures\n",
    "from sklearn.model_selection import train_test_split, GridSearchCV\n",
    "from sklearn.linear_model import LogisticRegression\n",
    "from sklearn.metrics import accuracy_score, precision_score, recall_score, f1_score\n",
    "from sklearn.metrics import plot_precision_recall_curve\n",
    "from sklearn.metrics import precision_recall_curve\n",
    "from sklearn.model_selection import cross_validate\n",
    "from math import log as log\n",
    "import os\n",
    "from sklearn.metrics import confusion_matrix\n",
    "from sklearn.metrics import auc, roc_auc_score, roc_curve\n",
    "pd.options.mode.chained_assignment = None\n",
    "\n",
    "# этот блок закомментирован так как используется только на kaggle\n",
    "for dirname, _, filenames in os.walk('/kaggle/input'):\n",
    "    for filename in filenames:\n",
    "        print(os.path.join(dirname, filename))\n",
    "PATH_to_file = '/kaggle/input/sf-dst-scoring/'\n",
    "\n",
    "# # # этот блок закомментирован так как используется только локальной машине\n",
    "# from importlib import reload\n",
    "# print(os.listdir('./data'))\n",
    "# PATH_to_file = './data/'"
   ]
  },
  {
   "cell_type": "code",
   "execution_count": 2,
   "metadata": {
    "execution": {
     "iopub.execute_input": "2021-02-10T11:11:12.022273Z",
     "iopub.status.busy": "2021-02-10T11:11:12.021596Z",
     "iopub.status.idle": "2021-02-10T11:11:14.590062Z",
     "shell.execute_reply": "2021-02-10T11:11:14.589357Z"
    },
    "papermill": {
     "duration": 2.643216,
     "end_time": "2021-02-10T11:11:14.590208",
     "exception": false,
     "start_time": "2021-02-10T11:11:11.946992",
     "status": "completed"
    },
    "tags": []
   },
   "outputs": [],
   "source": [
    "RANDOM_SEED = 42\n",
    "!pip freeze > requirements.txt\n",
    "CURRENT_DATE = pd.to_datetime('09/02/2021')"
   ]
  },
  {
   "cell_type": "markdown",
   "metadata": {
    "papermill": {
     "duration": 0.069981,
     "end_time": "2021-02-10T11:11:14.730130",
     "exception": false,
     "start_time": "2021-02-10T11:11:14.660149",
     "status": "completed"
    },
    "tags": []
   },
   "source": [
    "### Функции для оценки качества модели"
   ]
  },
  {
   "cell_type": "code",
   "execution_count": 3,
   "metadata": {
    "execution": {
     "iopub.execute_input": "2021-02-10T11:11:14.910766Z",
     "iopub.status.busy": "2021-02-10T11:11:14.874344Z",
     "iopub.status.idle": "2021-02-10T11:11:14.912866Z",
     "shell.execute_reply": "2021-02-10T11:11:14.913324Z"
    },
    "papermill": {
     "duration": 0.114021,
     "end_time": "2021-02-10T11:11:14.913512",
     "exception": false,
     "start_time": "2021-02-10T11:11:14.799491",
     "status": "completed"
    },
    "tags": []
   },
   "outputs": [],
   "source": [
    "def plot_confusion_matrix(y_true, y_pred, font_scale, classes,\n",
    "                          normalize=False,\n",
    "                          title=None):\n",
    "    \"\"\"\n",
    "    This function prints and plots the confusion matrix.\n",
    "    Normalization can be applied by setting `normalize=True`.\n",
    "    \"\"\"\n",
    "\n",
    "    list_of_labels = [['TP', 'FP'], ['FN', 'TN']]\n",
    "\n",
    "    if not title:\n",
    "        if normalize:\n",
    "            title = 'Нормализованная матрица ошибок'\n",
    "        else:\n",
    "            title = 'Матрица ошибок без нормализации'\n",
    "\n",
    "    # Compute confusion matrix\n",
    "    cm = confusion_matrix(y_true, y_pred)\n",
    "\n",
    "    cm[0, 0], cm[1, 1] = cm[1, 1], cm[0, 0]\n",
    "\n",
    "    # # Only use the labels that appear in the data\n",
    "    # classes = classes[unique_labels(y_true, y_pred)]\n",
    "    if normalize:\n",
    "        cm = cm.astype('float') / cm.sum(axis=1)[:, np.newaxis]\n",
    "\n",
    "    plt.style.use('seaborn-paper')\n",
    "    cmap = plt.cm.Blues\n",
    "    color_text = plt.get_cmap('PuBu')(0.85)\n",
    "\n",
    "    fig, ax = plt.subplots()\n",
    "    im = ax.imshow(cm, interpolation='nearest', cmap=cmap)\n",
    "    ax.figure.colorbar(im, ax=ax)\n",
    "    # We want to show all ticks...\n",
    "    ax.grid(False)\n",
    "    ax.set(xticks=np.arange(cm.shape[1]),\n",
    "           yticks=np.arange(cm.shape[0]),\n",
    "           # ... and label them with the respective list entries\n",
    "\n",
    "           title=title)\n",
    "    ax.title.set_fontsize(15)\n",
    "    ax.set_ylabel('Предсказанные значения', fontsize=14, color=color_text)\n",
    "    ax.set_xlabel('Целевая переменная', fontsize=14, color=color_text)\n",
    "    ax.set_xticklabels(classes, fontsize=12, color='black')\n",
    "    ax.set_yticklabels(classes, fontsize=12, color='black')\n",
    "\n",
    "    # Rotate the tick labels and set their alignment.\n",
    "    plt.setp(ax.get_xticklabels(), rotation=45, ha=\"right\",\n",
    "             rotation_mode=\"anchor\")\n",
    "\n",
    "    # Loop over data dimensions and create text annotations.\n",
    "    fmt = '.2f' if normalize else 'd'\n",
    "    thresh = cm.max() / 2.\n",
    "    for i in range(cm.shape[0]):\n",
    "        for j in range(cm.shape[1]):\n",
    "            ax.text(j, i, list_of_labels[i][j] + '\\n' + format(cm[i, j], fmt),\n",
    "                    ha=\"center\", va=\"center\",\n",
    "                    color=\"white\" if cm[i, j] > thresh else \"black\")\n",
    "    fig.tight_layout()\n",
    "    return ax\n",
    "\n",
    "\n",
    "def confusion_matrix_f(columns, d_y, d_y_pred, font_scale=1, normalize=False):\n",
    "    class_names = np.array(columns, dtype='U10')\n",
    "    # Plot non-normalized confusion matrix\n",
    "    plot_confusion_matrix(d_y, d_y_pred, font_scale, classes=class_names,\n",
    "                          title='Матрица ошибок без нормализации')\n",
    "\n",
    "    # Plot normalized confusion matrix\n",
    "    if normalize:\n",
    "        plot_confusion_matrix(d_y, d_y_pred, font_scale, classes=class_names, normalize=True,\n",
    "                              title='Нормализованная матрица ошибок')\n",
    "\n",
    "    plt.show()\n",
    "    return\n",
    "\n",
    "\n",
    "def PR_curve_with_area(d_y_true, d_y_pred_prob, font_scale=1):\n",
    "    plt.style.use('seaborn-paper')\n",
    "    sns.set(font_scale=font_scale)\n",
    "    # sns.set_color_codes(\"muted\")\n",
    "\n",
    "    plt.figure(figsize=(8, 6))\n",
    "    precision, recall, thresholds = precision_recall_curve(d_y_true, d_y_pred_prob, pos_label=1)\n",
    "    prc_auc_score_f = auc(recall, precision)\n",
    "    plt.plot(precision, recall, lw=3, label='площадь под PR кривой = %0.3f)' % prc_auc_score_f)\n",
    "\n",
    "    plt.xlim([-.05, 1.0])\n",
    "    plt.ylim([-.05, 1.05])\n",
    "    plt.xlabel('Точность \\n Precision = TP/(TP+FP)')\n",
    "    plt.ylabel('Полнота \\n Recall = TP/P')\n",
    "    plt.title('Precision-Recall кривая')\n",
    "    plt.legend(loc=\"upper right\")\n",
    "    plt.show()\n",
    "    return\n",
    "\n",
    "\n",
    "def vis_cross_val_score(d_name_metric, d_vec, d_value_metric, font_scale):\n",
    "    num_folds = len(d_vec['train_score'])\n",
    "    avg_metric_train, std_metric_train = d_vec['train_score'].mean(), d_vec['train_score'].std()\n",
    "    avg_metric_test, std_metric_test = d_vec['test_score'].mean(), d_vec['test_score'].std()\n",
    "\n",
    "    plt.style.use('seaborn-paper')\n",
    "    sns.set(font_scale=font_scale)\n",
    "    color_text = plt.get_cmap('PuBu')(0.85)\n",
    "\n",
    "    plt.figure(figsize=(12, 6))\n",
    "    plt.plot(d_vec['train_score'], label='тренировочные значения', marker='.', color='darkblue')\n",
    "    plt.plot([0, num_folds - 1], [avg_metric_train, avg_metric_train], color='blue',\n",
    "             label='среднее трен. значений ', marker='.', lw=2, ls='--')\n",
    "\n",
    "    plt.plot(d_vec['test_score'], label='тестовые значения', marker='.', color='red')\n",
    "    plt.plot([0, num_folds - 1], [avg_metric_test, avg_metric_test], color='lightcoral',\n",
    "             label='среднее тест. значений ', marker='.', lw=2, ls='--')\n",
    "\n",
    "    plt.plot([0, num_folds - 1], [d_value_metric, d_value_metric], color='grey',\n",
    "             label='значение метрики до CV', marker='.', lw=3)\n",
    "\n",
    "    # plt.xlim([1, num_folds])\n",
    "    y_max = max(avg_metric_train, avg_metric_test) + 1.5 * max(std_metric_train, std_metric_test)\n",
    "    y_min = min(avg_metric_train, avg_metric_test) - 3 * max(std_metric_train, std_metric_test)\n",
    "    plt.ylim([y_min, y_max])\n",
    "    plt.xlabel('номер фолда', fontsize=15, color=color_text)\n",
    "    plt.ylabel(d_name_metric, fontsize=15, color=color_text)\n",
    "    plt.title(f'Кросс-валидация по метрике {d_name_metric} на {num_folds} фолдах',\n",
    "              color=color_text, fontsize=17)\n",
    "    plt.legend(loc=\"lower right\", fontsize=11)\n",
    "    y_min_text = y_min + 0.5 * max(std_metric_train, std_metric_test)\n",
    "    plt.text(0, y_min_text,\n",
    "             f'{d_name_metric} на трейне = {round(avg_metric_train, 3)} +/- '\n",
    "             f'{round(std_metric_train, 3)} \\n{d_name_metric} на тесте    = {round(avg_metric_test, 3)} +/- '\n",
    "             f'{round(std_metric_test, 3)} \\n{d_name_metric} до CV        = {round(d_value_metric, 3)}',\n",
    "             fontsize=15)\n",
    "    plt.show()\n",
    "    return\n",
    "\n",
    "\n",
    "def model_coef(d_columns, d_model_coef_0):\n",
    "    temp_dict = {}\n",
    "    temp_dict['имя признака'] = d_columns\n",
    "    temp_dict['коэффициент модели'] = d_model_coef_0\n",
    "    temp_dict['модуль коэф'] = abs(temp_dict['коэффициент модели'])\n",
    "    temp_df = pd.DataFrame.from_dict(temp_dict, orient='columns')\n",
    "    temp_df = temp_df.sort_values(by='модуль коэф', ascending=False)\n",
    "    temp_df.reset_index(drop=True, inplace=True)\n",
    "\n",
    "    return temp_df.loc[:, ['имя признака', 'коэффициент модели']]\n",
    "\n",
    "def print_metrics():\n",
    "    print('Accuracy: %.4f' % accuracy_score(y_test, y_pred))\n",
    "    print('Precision: %.4f' % precision_score(y_test, y_pred))\n",
    "    print('Recall: %.4f' % recall_score(y_test, y_pred))\n",
    "    print('F1: %.4f' % f1_score(y_test, y_pred))\n",
    "\n",
    "def ROC_curve_with_area(d_y_true, d_y_pred_prob, font_scale):\n",
    "    roc_auc_score_f = roc_auc_score(d_y_true, d_y_pred_prob)\n",
    "\n",
    "    plt.style.use('seaborn-paper')\n",
    "    sns.set(font_scale=font_scale)\n",
    "    # sns.set_color_codes(\"muted\")\n",
    "\n",
    "    plt.figure(figsize=(8, 6))\n",
    "    fpr, tpr, thresholds = roc_curve(d_y_true, d_y_pred_prob, pos_label=1)\n",
    "\n",
    "    plt.plot(fpr, tpr, lw=3, label='площадь под ROC кривой = %0.3f)' % roc_auc_score_f)\n",
    "    plt.plot([0, 1], [0, 1], color='grey')\n",
    "    plt.xlim([-.05, 1.0])\n",
    "    plt.ylim([-.05, 1.05])\n",
    "    plt.xlabel('Ложно классифицированные \\n False Positive Rate (FPR)')\n",
    "    plt.ylabel('Верно классифицированные \\n True Positive Rate (TPR)')\n",
    "    plt.title('ROC кривая')\n",
    "    plt.legend(loc=\"lower right\")\n",
    "    plt.show()\n",
    "    return"
   ]
  },
  {
   "cell_type": "markdown",
   "metadata": {
    "papermill": {
     "duration": 0.069929,
     "end_time": "2021-02-10T11:11:15.053236",
     "exception": false,
     "start_time": "2021-02-10T11:11:14.983307",
     "status": "completed"
    },
    "tags": []
   },
   "source": [
    "## 2. Импорт данных"
   ]
  },
  {
   "cell_type": "code",
   "execution_count": 4,
   "metadata": {
    "execution": {
     "iopub.execute_input": "2021-02-10T11:11:15.194868Z",
     "iopub.status.busy": "2021-02-10T11:11:15.194214Z",
     "iopub.status.idle": "2021-02-10T11:11:15.513851Z",
     "shell.execute_reply": "2021-02-10T11:11:15.512263Z"
    },
    "papermill": {
     "duration": 0.391878,
     "end_time": "2021-02-10T11:11:15.514005",
     "exception": false,
     "start_time": "2021-02-10T11:11:15.122127",
     "status": "completed"
    },
    "tags": []
   },
   "outputs": [],
   "source": [
    "df_train = pd.read_csv(PATH_to_file+'train.csv')\n",
    "df_test = pd.read_csv(PATH_to_file+'test.csv')\n",
    "#df_train = pd.read_csv('train.csv')\n",
    "#df_test = pd.read_csv('test.csv')"
   ]
  },
  {
   "cell_type": "code",
   "execution_count": 5,
   "metadata": {
    "execution": {
     "iopub.execute_input": "2021-02-10T11:11:15.665394Z",
     "iopub.status.busy": "2021-02-10T11:11:15.664490Z",
     "iopub.status.idle": "2021-02-10T11:11:15.751268Z",
     "shell.execute_reply": "2021-02-10T11:11:15.751795Z"
    },
    "papermill": {
     "duration": 0.168819,
     "end_time": "2021-02-10T11:11:15.751973",
     "exception": false,
     "start_time": "2021-02-10T11:11:15.583154",
     "status": "completed"
    },
    "scrolled": true,
    "tags": []
   },
   "outputs": [
    {
     "name": "stdout",
     "output_type": "stream",
     "text": [
      "<class 'pandas.core.frame.DataFrame'>\n",
      "RangeIndex: 73799 entries, 0 to 73798\n",
      "Data columns (total 19 columns):\n",
      " #   Column            Non-Null Count  Dtype  \n",
      "---  ------            --------------  -----  \n",
      " 0   client_id         73799 non-null  int64  \n",
      " 1   app_date          73799 non-null  object \n",
      " 2   education         73492 non-null  object \n",
      " 3   sex               73799 non-null  object \n",
      " 4   age               73799 non-null  int64  \n",
      " 5   car               73799 non-null  object \n",
      " 6   car_type          73799 non-null  object \n",
      " 7   decline_app_cnt   73799 non-null  int64  \n",
      " 8   good_work         73799 non-null  int64  \n",
      " 9   score_bki         73799 non-null  float64\n",
      " 10  bki_request_cnt   73799 non-null  int64  \n",
      " 11  region_rating     73799 non-null  int64  \n",
      " 12  home_address      73799 non-null  int64  \n",
      " 13  work_address      73799 non-null  int64  \n",
      " 14  income            73799 non-null  int64  \n",
      " 15  sna               73799 non-null  int64  \n",
      " 16  first_time        73799 non-null  int64  \n",
      " 17  foreign_passport  73799 non-null  object \n",
      " 18  default           73799 non-null  int64  \n",
      "dtypes: float64(1), int64(12), object(6)\n",
      "memory usage: 10.7+ MB\n"
     ]
    },
    {
     "data": {
      "text/html": [
       "<div>\n",
       "<style scoped>\n",
       "    .dataframe tbody tr th:only-of-type {\n",
       "        vertical-align: middle;\n",
       "    }\n",
       "\n",
       "    .dataframe tbody tr th {\n",
       "        vertical-align: top;\n",
       "    }\n",
       "\n",
       "    .dataframe thead th {\n",
       "        text-align: right;\n",
       "    }\n",
       "</style>\n",
       "<table border=\"1\" class=\"dataframe\">\n",
       "  <thead>\n",
       "    <tr style=\"text-align: right;\">\n",
       "      <th></th>\n",
       "      <th>client_id</th>\n",
       "      <th>app_date</th>\n",
       "      <th>education</th>\n",
       "      <th>sex</th>\n",
       "      <th>age</th>\n",
       "      <th>car</th>\n",
       "      <th>car_type</th>\n",
       "      <th>decline_app_cnt</th>\n",
       "      <th>good_work</th>\n",
       "      <th>score_bki</th>\n",
       "      <th>bki_request_cnt</th>\n",
       "      <th>region_rating</th>\n",
       "      <th>home_address</th>\n",
       "      <th>work_address</th>\n",
       "      <th>income</th>\n",
       "      <th>sna</th>\n",
       "      <th>first_time</th>\n",
       "      <th>foreign_passport</th>\n",
       "      <th>default</th>\n",
       "    </tr>\n",
       "  </thead>\n",
       "  <tbody>\n",
       "    <tr>\n",
       "      <th>0</th>\n",
       "      <td>25905</td>\n",
       "      <td>01FEB2014</td>\n",
       "      <td>SCH</td>\n",
       "      <td>M</td>\n",
       "      <td>62</td>\n",
       "      <td>Y</td>\n",
       "      <td>Y</td>\n",
       "      <td>0</td>\n",
       "      <td>0</td>\n",
       "      <td>-2.008753</td>\n",
       "      <td>1</td>\n",
       "      <td>50</td>\n",
       "      <td>1</td>\n",
       "      <td>2</td>\n",
       "      <td>18000</td>\n",
       "      <td>4</td>\n",
       "      <td>1</td>\n",
       "      <td>N</td>\n",
       "      <td>0</td>\n",
       "    </tr>\n",
       "    <tr>\n",
       "      <th>1</th>\n",
       "      <td>63161</td>\n",
       "      <td>12MAR2014</td>\n",
       "      <td>SCH</td>\n",
       "      <td>F</td>\n",
       "      <td>59</td>\n",
       "      <td>N</td>\n",
       "      <td>N</td>\n",
       "      <td>0</td>\n",
       "      <td>0</td>\n",
       "      <td>-1.532276</td>\n",
       "      <td>3</td>\n",
       "      <td>50</td>\n",
       "      <td>2</td>\n",
       "      <td>3</td>\n",
       "      <td>19000</td>\n",
       "      <td>4</td>\n",
       "      <td>1</td>\n",
       "      <td>N</td>\n",
       "      <td>0</td>\n",
       "    </tr>\n",
       "  </tbody>\n",
       "</table>\n",
       "</div>"
      ],
      "text/plain": [
       "   client_id   app_date education sex  age car car_type  decline_app_cnt  \\\n",
       "0      25905  01FEB2014       SCH   M   62   Y        Y                0   \n",
       "1      63161  12MAR2014       SCH   F   59   N        N                0   \n",
       "\n",
       "   good_work  score_bki  bki_request_cnt  region_rating  home_address  \\\n",
       "0          0  -2.008753                1             50             1   \n",
       "1          0  -1.532276                3             50             2   \n",
       "\n",
       "   work_address  income  sna  first_time foreign_passport  default  \n",
       "0             2   18000    4           1                N        0  \n",
       "1             3   19000    4           1                N        0  "
      ]
     },
     "metadata": {},
     "output_type": "display_data"
    }
   ],
   "source": [
    "df_train.info()\n",
    "display(df_train.head(2))"
   ]
  },
  {
   "cell_type": "code",
   "execution_count": 6,
   "metadata": {
    "execution": {
     "iopub.execute_input": "2021-02-10T11:11:15.922781Z",
     "iopub.status.busy": "2021-02-10T11:11:15.900078Z",
     "iopub.status.idle": "2021-02-10T11:11:15.951247Z",
     "shell.execute_reply": "2021-02-10T11:11:15.950267Z"
    },
    "papermill": {
     "duration": 0.127601,
     "end_time": "2021-02-10T11:11:15.951394",
     "exception": false,
     "start_time": "2021-02-10T11:11:15.823793",
     "status": "completed"
    },
    "scrolled": true,
    "tags": []
   },
   "outputs": [
    {
     "name": "stdout",
     "output_type": "stream",
     "text": [
      "<class 'pandas.core.frame.DataFrame'>\n",
      "RangeIndex: 36349 entries, 0 to 36348\n",
      "Data columns (total 18 columns):\n",
      " #   Column            Non-Null Count  Dtype  \n",
      "---  ------            --------------  -----  \n",
      " 0   client_id         36349 non-null  int64  \n",
      " 1   app_date          36349 non-null  object \n",
      " 2   education         36178 non-null  object \n",
      " 3   sex               36349 non-null  object \n",
      " 4   age               36349 non-null  int64  \n",
      " 5   car               36349 non-null  object \n",
      " 6   car_type          36349 non-null  object \n",
      " 7   decline_app_cnt   36349 non-null  int64  \n",
      " 8   good_work         36349 non-null  int64  \n",
      " 9   score_bki         36349 non-null  float64\n",
      " 10  bki_request_cnt   36349 non-null  int64  \n",
      " 11  region_rating     36349 non-null  int64  \n",
      " 12  home_address      36349 non-null  int64  \n",
      " 13  work_address      36349 non-null  int64  \n",
      " 14  income            36349 non-null  int64  \n",
      " 15  sna               36349 non-null  int64  \n",
      " 16  first_time        36349 non-null  int64  \n",
      " 17  foreign_passport  36349 non-null  object \n",
      "dtypes: float64(1), int64(11), object(6)\n",
      "memory usage: 5.0+ MB\n"
     ]
    },
    {
     "data": {
      "text/html": [
       "<div>\n",
       "<style scoped>\n",
       "    .dataframe tbody tr th:only-of-type {\n",
       "        vertical-align: middle;\n",
       "    }\n",
       "\n",
       "    .dataframe tbody tr th {\n",
       "        vertical-align: top;\n",
       "    }\n",
       "\n",
       "    .dataframe thead th {\n",
       "        text-align: right;\n",
       "    }\n",
       "</style>\n",
       "<table border=\"1\" class=\"dataframe\">\n",
       "  <thead>\n",
       "    <tr style=\"text-align: right;\">\n",
       "      <th></th>\n",
       "      <th>client_id</th>\n",
       "      <th>app_date</th>\n",
       "      <th>education</th>\n",
       "      <th>sex</th>\n",
       "      <th>age</th>\n",
       "      <th>car</th>\n",
       "      <th>car_type</th>\n",
       "      <th>decline_app_cnt</th>\n",
       "      <th>good_work</th>\n",
       "      <th>score_bki</th>\n",
       "      <th>bki_request_cnt</th>\n",
       "      <th>region_rating</th>\n",
       "      <th>home_address</th>\n",
       "      <th>work_address</th>\n",
       "      <th>income</th>\n",
       "      <th>sna</th>\n",
       "      <th>first_time</th>\n",
       "      <th>foreign_passport</th>\n",
       "    </tr>\n",
       "  </thead>\n",
       "  <tbody>\n",
       "    <tr>\n",
       "      <th>0</th>\n",
       "      <td>74835</td>\n",
       "      <td>22MAR2014</td>\n",
       "      <td>GRD</td>\n",
       "      <td>M</td>\n",
       "      <td>29</td>\n",
       "      <td>Y</td>\n",
       "      <td>Y</td>\n",
       "      <td>0</td>\n",
       "      <td>0</td>\n",
       "      <td>-2.271884</td>\n",
       "      <td>3</td>\n",
       "      <td>50</td>\n",
       "      <td>1</td>\n",
       "      <td>2</td>\n",
       "      <td>50000</td>\n",
       "      <td>1</td>\n",
       "      <td>4</td>\n",
       "      <td>N</td>\n",
       "    </tr>\n",
       "    <tr>\n",
       "      <th>1</th>\n",
       "      <td>17527</td>\n",
       "      <td>24JAN2014</td>\n",
       "      <td>SCH</td>\n",
       "      <td>F</td>\n",
       "      <td>39</td>\n",
       "      <td>N</td>\n",
       "      <td>N</td>\n",
       "      <td>5</td>\n",
       "      <td>0</td>\n",
       "      <td>-1.504999</td>\n",
       "      <td>2</td>\n",
       "      <td>50</td>\n",
       "      <td>1</td>\n",
       "      <td>2</td>\n",
       "      <td>5000</td>\n",
       "      <td>4</td>\n",
       "      <td>3</td>\n",
       "      <td>N</td>\n",
       "    </tr>\n",
       "  </tbody>\n",
       "</table>\n",
       "</div>"
      ],
      "text/plain": [
       "   client_id   app_date education sex  age car car_type  decline_app_cnt  \\\n",
       "0      74835  22MAR2014       GRD   M   29   Y        Y                0   \n",
       "1      17527  24JAN2014       SCH   F   39   N        N                5   \n",
       "\n",
       "   good_work  score_bki  bki_request_cnt  region_rating  home_address  \\\n",
       "0          0  -2.271884                3             50             1   \n",
       "1          0  -1.504999                2             50             1   \n",
       "\n",
       "   work_address  income  sna  first_time foreign_passport  \n",
       "0             2   50000    1           4                N  \n",
       "1             2    5000    4           3                N  "
      ]
     },
     "metadata": {},
     "output_type": "display_data"
    }
   ],
   "source": [
    "df_test.info()\n",
    "display(df_test.head(2))"
   ]
  },
  {
   "cell_type": "markdown",
   "metadata": {
    "papermill": {
     "duration": 0.071375,
     "end_time": "2021-02-10T11:11:16.094288",
     "exception": false,
     "start_time": "2021-02-10T11:11:16.022913",
     "status": "completed"
    },
    "tags": []
   },
   "source": [
    "Резюме: в обоих датасетах пропуски есть только по столбцу education"
   ]
  },
  {
   "cell_type": "code",
   "execution_count": 7,
   "metadata": {
    "execution": {
     "iopub.execute_input": "2021-02-10T11:11:16.245061Z",
     "iopub.status.busy": "2021-02-10T11:11:16.244218Z",
     "iopub.status.idle": "2021-02-10T11:11:16.288366Z",
     "shell.execute_reply": "2021-02-10T11:11:16.287729Z"
    },
    "papermill": {
     "duration": 0.122658,
     "end_time": "2021-02-10T11:11:16.288521",
     "exception": false,
     "start_time": "2021-02-10T11:11:16.165863",
     "status": "completed"
    },
    "tags": []
   },
   "outputs": [],
   "source": [
    "# ВАЖНО! для корректной обработки признаков объединяем трейн и тест в один датасет\n",
    "df_train['Train'] = 1 # помечаем где у нас трейн\n",
    "df_test['Train'] = 0 # помечаем где у нас тест\n",
    "\n",
    "df = df_train.append(df_test, sort=False).reset_index(drop=True) # объединяем\n",
    "#!Обратите внимание объединение датасетов является потенциальной опасностью для даталиков"
   ]
  },
  {
   "cell_type": "markdown",
   "metadata": {
    "papermill": {
     "duration": 0.071421,
     "end_time": "2021-02-10T11:11:16.431909",
     "exception": false,
     "start_time": "2021-02-10T11:11:16.360488",
     "status": "completed"
    },
    "tags": []
   },
   "source": [
    "## 3. Предварительный анализ данных"
   ]
  },
  {
   "cell_type": "markdown",
   "metadata": {
    "papermill": {
     "duration": 0.071038,
     "end_time": "2021-02-10T11:11:16.574302",
     "exception": false,
     "start_time": "2021-02-10T11:11:16.503264",
     "status": "completed"
    },
    "tags": []
   },
   "source": [
    "Посмотрим на объединенный датафрейм:"
   ]
  },
  {
   "cell_type": "code",
   "execution_count": 8,
   "metadata": {
    "execution": {
     "iopub.execute_input": "2021-02-10T11:11:16.756513Z",
     "iopub.status.busy": "2021-02-10T11:11:16.755591Z",
     "iopub.status.idle": "2021-02-10T11:11:16.807151Z",
     "shell.execute_reply": "2021-02-10T11:11:16.806120Z"
    },
    "papermill": {
     "duration": 0.16106,
     "end_time": "2021-02-10T11:11:16.807309",
     "exception": false,
     "start_time": "2021-02-10T11:11:16.646249",
     "status": "completed"
    },
    "scrolled": true,
    "tags": []
   },
   "outputs": [
    {
     "name": "stdout",
     "output_type": "stream",
     "text": [
      "<class 'pandas.core.frame.DataFrame'>\n",
      "RangeIndex: 110148 entries, 0 to 110147\n",
      "Data columns (total 20 columns):\n",
      " #   Column            Non-Null Count   Dtype  \n",
      "---  ------            --------------   -----  \n",
      " 0   client_id         110148 non-null  int64  \n",
      " 1   app_date          110148 non-null  object \n",
      " 2   education         109670 non-null  object \n",
      " 3   sex               110148 non-null  object \n",
      " 4   age               110148 non-null  int64  \n",
      " 5   car               110148 non-null  object \n",
      " 6   car_type          110148 non-null  object \n",
      " 7   decline_app_cnt   110148 non-null  int64  \n",
      " 8   good_work         110148 non-null  int64  \n",
      " 9   score_bki         110148 non-null  float64\n",
      " 10  bki_request_cnt   110148 non-null  int64  \n",
      " 11  region_rating     110148 non-null  int64  \n",
      " 12  home_address      110148 non-null  int64  \n",
      " 13  work_address      110148 non-null  int64  \n",
      " 14  income            110148 non-null  int64  \n",
      " 15  sna               110148 non-null  int64  \n",
      " 16  first_time        110148 non-null  int64  \n",
      " 17  foreign_passport  110148 non-null  object \n",
      " 18  default           73799 non-null   float64\n",
      " 19  Train             110148 non-null  int64  \n",
      "dtypes: float64(2), int64(12), object(6)\n",
      "memory usage: 16.8+ MB\n"
     ]
    }
   ],
   "source": [
    "df.info()"
   ]
  },
  {
   "cell_type": "markdown",
   "metadata": {
    "papermill": {
     "duration": 0.073837,
     "end_time": "2021-02-10T11:11:16.953181",
     "exception": false,
     "start_time": "2021-02-10T11:11:16.879344",
     "status": "completed"
    },
    "tags": []
   },
   "source": [
    "Посмотрим сколько уникальных значений в датасете:"
   ]
  },
  {
   "cell_type": "code",
   "execution_count": 9,
   "metadata": {
    "execution": {
     "iopub.execute_input": "2021-02-10T11:11:17.103888Z",
     "iopub.status.busy": "2021-02-10T11:11:17.102903Z",
     "iopub.status.idle": "2021-02-10T11:11:17.263157Z",
     "shell.execute_reply": "2021-02-10T11:11:17.263637Z"
    },
    "papermill": {
     "duration": 0.237593,
     "end_time": "2021-02-10T11:11:17.263830",
     "exception": false,
     "start_time": "2021-02-10T11:11:17.026237",
     "status": "completed"
    },
    "tags": []
   },
   "outputs": [
    {
     "data": {
      "text/plain": [
       "client_id           110148\n",
       "app_date               120\n",
       "education                5\n",
       "sex                      2\n",
       "age                     52\n",
       "car                      2\n",
       "car_type                 2\n",
       "decline_app_cnt         24\n",
       "good_work                2\n",
       "score_bki           102618\n",
       "bki_request_cnt         40\n",
       "region_rating            7\n",
       "home_address             3\n",
       "work_address             3\n",
       "income                1207\n",
       "sna                      4\n",
       "first_time               4\n",
       "foreign_passport         2\n",
       "default                  2\n",
       "Train                    2\n",
       "dtype: int64"
      ]
     },
     "execution_count": 9,
     "metadata": {},
     "output_type": "execute_result"
    }
   ],
   "source": [
    "df.nunique()"
   ]
  },
  {
   "cell_type": "markdown",
   "metadata": {
    "papermill": {
     "duration": 0.072711,
     "end_time": "2021-02-10T11:11:17.409289",
     "exception": false,
     "start_time": "2021-02-10T11:11:17.336578",
     "status": "completed"
    },
    "tags": []
   },
   "source": [
    "##### Резюме по предварительному анализу: в тренировочной выборке 73799 клиентов, в тестовой  - 36349. Всего данные о 110148 клиентах. Всего 20 переменных, из них 1 - временной ряд, 6 бинарных, 7 категориальных и 6 числовых. Всего пропусков 272 (0.4%), все пропуски в переменной education. client_id уникальный числовой признак, который не несет полезностей. В бинарных признаках наше целевая переменная  default и искуственно добавленный признак тренировочной части датасета Train  \n",
    "\n",
    "Описания полей датасета\n",
    "- client_id - идентификатор клиента\n",
    "- education - уровень образования\n",
    "- sex - пол заемщика\n",
    "- age - возраст заемщика\n",
    "- car - флаг наличия автомобиля\n",
    "- car_type - флаг автомобиля иномарки\n",
    "- decline_app_cnt - количество отказанных прошлых заявок\n",
    "- good_work - флаг наличия “хорошей” работы\n",
    "- bki_request_cnt - количество запросов в БКИ\n",
    "- home_address - категоризатор домашнего адреса\n",
    "- work_address - категоризатор рабочего адреса\n",
    "- income - доход заемщика\n",
    "- foreign_passport - наличие загранпаспорта\n",
    "- sna - связь заемщика с клиентами банка\n",
    "- first_time - давность наличия информации о заемщике\n",
    "- score_bki - скоринговый балл по данным из БКИ\n",
    "- region_rating - рейтинг региона\n",
    "- app_date - дата подачи заявки\n",
    "- default - флаг дефолта по кредиту"
   ]
  },
  {
   "cell_type": "code",
   "execution_count": 10,
   "metadata": {
    "execution": {
     "iopub.execute_input": "2021-02-10T11:11:17.558740Z",
     "iopub.status.busy": "2021-02-10T11:11:17.558049Z",
     "iopub.status.idle": "2021-02-10T11:11:17.563892Z",
     "shell.execute_reply": "2021-02-10T11:11:17.563179Z"
    },
    "papermill": {
     "duration": 0.081561,
     "end_time": "2021-02-10T11:11:17.564046",
     "exception": false,
     "start_time": "2021-02-10T11:11:17.482485",
     "status": "completed"
    },
    "tags": []
   },
   "outputs": [],
   "source": [
    "# внесем данные из резюме в списки \n",
    "# временной ряд (1)\n",
    "time_cols = ['app_date']\n",
    "# бинарные переменные (default не включаем в список) (5+1 = 6)\n",
    "bin_cols = ['sex', 'car', 'car_type', 'good_work', 'foreign_passport']\n",
    "# категориальные переменные (Train не включаем в список, так как мы сами его добавили) (3+1=4)\n",
    "cat_cols = ['education', 'region_rating', 'home_address', 'work_address', 'sna', 'first_time']\n",
    "# числовые переменные, client_id исключили из списка (8)\n",
    "num_cols = ['age','decline_app_cnt','score_bki','bki_request_cnt','income']\n",
    "# client_id не включаем в списки"
   ]
  },
  {
   "cell_type": "markdown",
   "metadata": {
    "papermill": {
     "duration": 0.072709,
     "end_time": "2021-02-10T11:11:17.709109",
     "exception": false,
     "start_time": "2021-02-10T11:11:17.636400",
     "status": "completed"
    },
    "tags": []
   },
   "source": [
    "## 4. Анализ по переменным\n",
    "---\n",
    "\n",
    "### 1. Числовые переменные"
   ]
  },
  {
   "cell_type": "code",
   "execution_count": 11,
   "metadata": {
    "execution": {
     "iopub.execute_input": "2021-02-10T11:11:17.861519Z",
     "iopub.status.busy": "2021-02-10T11:11:17.860825Z",
     "iopub.status.idle": "2021-02-10T11:11:19.400148Z",
     "shell.execute_reply": "2021-02-10T11:11:19.399581Z"
    },
    "papermill": {
     "duration": 1.618982,
     "end_time": "2021-02-10T11:11:19.400286",
     "exception": false,
     "start_time": "2021-02-10T11:11:17.781304",
     "status": "completed"
    },
    "tags": []
   },
   "outputs": [
    {
     "name": "stderr",
     "output_type": "stream",
     "text": [
      "/opt/conda/lib/python3.7/site-packages/seaborn/distributions.py:2557: FutureWarning: `distplot` is a deprecated function and will be removed in a future version. Please adapt your code to use either `displot` (a figure-level function with similar flexibility) or `histplot` (an axes-level function for histograms).\n",
      "  warnings.warn(msg, FutureWarning)\n"
     ]
    },
    {
     "data": {
      "image/png": "[encoded data removed]",
      "text/plain": [
       "<Figure size 432x288 with 1 Axes>"
      ]
     },
     "metadata": {
      "needs_background": "light"
     },
     "output_type": "display_data"
    },
    {
     "data": {
      "image/png": "[encoded data removed]",
      "text/plain": [
       "<Figure size 432x288 with 1 Axes>"
      ]
     },
     "metadata": {
      "needs_background": "light"
     },
     "output_type": "display_data"
    },
    {
     "data": {
      "image/png": "[encoded data removed]",
      "text/plain": [
       "<Figure size 432x288 with 1 Axes>"
      ]
     },
     "metadata": {
      "needs_background": "light"
     },
     "output_type": "display_data"
    },
    {
     "data": {
      "image/png": "[encoded data removed]",
      "text/plain": [
       "<Figure size 432x288 with 1 Axes>"
      ]
     },
     "metadata": {
      "needs_background": "light"
     },
     "output_type": "display_data"
    },
    {
     "data": {
      "image/png": "[encoded data removed]",
      "text/plain": [
       "<Figure size 432x288 with 1 Axes>"
      ]
     },
     "metadata": {
      "needs_background": "light"
     },
     "output_type": "display_data"
    }
   ],
   "source": [
    "for i in num_cols:\n",
    "    plt.figure()\n",
    "    sns.distplot(df[i], kde = False, rug=False)\n",
    "    #sns.distplot(np.log(df[i]), kde = False, rug=False)\n",
    "    plt.title(i)\n",
    "    plt.show()"
   ]
  },
  {
   "cell_type": "markdown",
   "metadata": {
    "papermill": {
     "duration": 0.075631,
     "end_time": "2021-02-10T11:11:19.552167",
     "exception": false,
     "start_time": "2021-02-10T11:11:19.476536",
     "status": "completed"
    },
    "tags": []
   },
   "source": [
    "Распределения всех числовых переменных кроме score_bki имеют тяжёлый правый хвост, score_bki распределено нормально"
   ]
  },
  {
   "cell_type": "markdown",
   "metadata": {
    "papermill": {
     "duration": 0.07672,
     "end_time": "2021-02-10T11:11:19.705985",
     "exception": false,
     "start_time": "2021-02-10T11:11:19.629265",
     "status": "completed"
    },
    "tags": []
   },
   "source": [
    "Построим графики распределения логарифмированных переменных."
   ]
  },
  {
   "cell_type": "code",
   "execution_count": 12,
   "metadata": {
    "execution": {
     "iopub.execute_input": "2021-02-10T11:11:19.866316Z",
     "iopub.status.busy": "2021-02-10T11:11:19.865552Z",
     "iopub.status.idle": "2021-02-10T11:11:21.243277Z",
     "shell.execute_reply": "2021-02-10T11:11:21.242679Z"
    },
    "papermill": {
     "duration": 1.460412,
     "end_time": "2021-02-10T11:11:21.243423",
     "exception": false,
     "start_time": "2021-02-10T11:11:19.783011",
     "status": "completed"
    },
    "tags": []
   },
   "outputs": [
    {
     "name": "stderr",
     "output_type": "stream",
     "text": [
      "/opt/conda/lib/python3.7/site-packages/seaborn/distributions.py:2557: FutureWarning: `distplot` is a deprecated function and will be removed in a future version. Please adapt your code to use either `displot` (a figure-level function with similar flexibility) or `histplot` (an axes-level function for histograms).\n",
      "  warnings.warn(msg, FutureWarning)\n"
     ]
    },
    {
     "data": {
      "image/png": "[encoded data removed]",
      "text/plain": [
       "<Figure size 432x288 with 1 Axes>"
      ]
     },
     "metadata": {
      "needs_background": "light"
     },
     "output_type": "display_data"
    },
    {
     "name": "stderr",
     "output_type": "stream",
     "text": [
      "/opt/conda/lib/python3.7/site-packages/seaborn/distributions.py:2557: FutureWarning: `distplot` is a deprecated function and will be removed in a future version. Please adapt your code to use either `displot` (a figure-level function with similar flexibility) or `histplot` (an axes-level function for histograms).\n",
      "  warnings.warn(msg, FutureWarning)\n"
     ]
    },
    {
     "data": {
      "image/png": "[encoded data removed]",
      "text/plain": [
       "<Figure size 432x288 with 1 Axes>"
      ]
     },
     "metadata": {
      "needs_background": "light"
     },
     "output_type": "display_data"
    },
    {
     "name": "stderr",
     "output_type": "stream",
     "text": [
      "/opt/conda/lib/python3.7/site-packages/seaborn/distributions.py:2557: FutureWarning: `distplot` is a deprecated function and will be removed in a future version. Please adapt your code to use either `displot` (a figure-level function with similar flexibility) or `histplot` (an axes-level function for histograms).\n",
      "  warnings.warn(msg, FutureWarning)\n"
     ]
    },
    {
     "data": {
      "image/png": "[encoded data removed]",
      "text/plain": [
       "<Figure size 432x288 with 1 Axes>"
      ]
     },
     "metadata": {
      "needs_background": "light"
     },
     "output_type": "display_data"
    },
    {
     "name": "stderr",
     "output_type": "stream",
     "text": [
      "/opt/conda/lib/python3.7/site-packages/seaborn/distributions.py:2557: FutureWarning: `distplot` is a deprecated function and will be removed in a future version. Please adapt your code to use either `displot` (a figure-level function with similar flexibility) or `histplot` (an axes-level function for histograms).\n",
      "  warnings.warn(msg, FutureWarning)\n"
     ]
    },
    {
     "data": {
      "image/png": "[encoded data removed]",
      "text/plain": [
       "<Figure size 432x288 with 1 Axes>"
      ]
     },
     "metadata": {
      "needs_background": "light"
     },
     "output_type": "display_data"
    },
    {
     "name": "stderr",
     "output_type": "stream",
     "text": [
      "/opt/conda/lib/python3.7/site-packages/seaborn/distributions.py:2557: FutureWarning: `distplot` is a deprecated function and will be removed in a future version. Please adapt your code to use either `displot` (a figure-level function with similar flexibility) or `histplot` (an axes-level function for histograms).\n",
      "  warnings.warn(msg, FutureWarning)\n"
     ]
    },
    {
     "data": {
      "image/png": "[encoded data removed]",
      "text/plain": [
       "<Figure size 432x288 with 1 Axes>"
      ]
     },
     "metadata": {
      "needs_background": "light"
     },
     "output_type": "display_data"
    }
   ],
   "source": [
    "for i in num_cols:\n",
    "    plt.figure()\n",
    "    sns.distplot(np.log(df[i][df[i] > 0].dropna()), kde = False, rug=False)\n",
    "    plt.title(i)\n",
    "    plt.show()"
   ]
  },
  {
   "cell_type": "markdown",
   "metadata": {
    "papermill": {
     "duration": 0.081378,
     "end_time": "2021-02-10T11:11:21.407470",
     "exception": false,
     "start_time": "2021-02-10T11:11:21.326092",
     "status": "completed"
    },
    "tags": []
   },
   "source": [
    "Построим boxplot для выявления выбросов:"
   ]
  },
  {
   "cell_type": "code",
   "execution_count": 13,
   "metadata": {
    "execution": {
     "iopub.execute_input": "2021-02-10T11:11:21.577459Z",
     "iopub.status.busy": "2021-02-10T11:11:21.576786Z",
     "iopub.status.idle": "2021-02-10T11:11:21.579592Z",
     "shell.execute_reply": "2021-02-10T11:11:21.579057Z"
    },
    "papermill": {
     "duration": 0.090845,
     "end_time": "2021-02-10T11:11:21.579753",
     "exception": false,
     "start_time": "2021-02-10T11:11:21.488908",
     "status": "completed"
    },
    "tags": []
   },
   "outputs": [],
   "source": [
    "def get_boxplot(column):\n",
    "    fig, ax = plt.subplots(figsize=(14, 4))\n",
    "    sns.boxplot( y=column,\n",
    "                data=df.loc[df.loc[:, column].isin(\n",
    "                    df.loc[:, column].value_counts().index[:20])],\n",
    "                ax=ax)\n",
    "    plt.xticks(rotation=45)\n",
    "    ax.set_title('Boxplot for ' + column)\n",
    "    plt.show()"
   ]
  },
  {
   "cell_type": "code",
   "execution_count": 14,
   "metadata": {
    "execution": {
     "iopub.execute_input": "2021-02-10T11:11:21.762624Z",
     "iopub.status.busy": "2021-02-10T11:11:21.761336Z",
     "iopub.status.idle": "2021-02-10T11:11:22.496772Z",
     "shell.execute_reply": "2021-02-10T11:11:22.496138Z"
    },
    "papermill": {
     "duration": 0.835502,
     "end_time": "2021-02-10T11:11:22.496910",
     "exception": false,
     "start_time": "2021-02-10T11:11:21.661408",
     "status": "completed"
    },
    "tags": []
   },
   "outputs": [
    {
     "data": {
      "image/png": "[encoded data removed]",
      "text/plain": [
       "<Figure size 1008x288 with 1 Axes>"
      ]
     },
     "metadata": {
      "needs_background": "light"
     },
     "output_type": "display_data"
    },
    {
     "data": {
      "image/png": "[encoded data removed]",
      "text/plain": [
       "<Figure size 1008x288 with 1 Axes>"
      ]
     },
     "metadata": {
      "needs_background": "light"
     },
     "output_type": "display_data"
    },
    {
     "data": {
      "image/png": "[encoded data removed]",
      "text/plain": [
       "<Figure size 1008x288 with 1 Axes>"
      ]
     },
     "metadata": {
      "needs_background": "light"
     },
     "output_type": "display_data"
    },
    {
     "data": {
      "image/png": "[encoded data removed]",
      "text/plain": [
       "<Figure size 1008x288 with 1 Axes>"
      ]
     },
     "metadata": {
      "needs_background": "light"
     },
     "output_type": "display_data"
    },
    {
     "data": {
      "image/png": "[encoded data removed]",
      "text/plain": [
       "<Figure size 1008x288 with 1 Axes>"
      ]
     },
     "metadata": {
      "needs_background": "light"
     },
     "output_type": "display_data"
    }
   ],
   "source": [
    "for col in num_cols:\n",
    "    get_boxplot(col)"
   ]
  },
  {
   "cell_type": "markdown",
   "metadata": {
    "papermill": {
     "duration": 0.085098,
     "end_time": "2021-02-10T11:11:22.667236",
     "exception": false,
     "start_time": "2021-02-10T11:11:22.582138",
     "status": "completed"
    },
    "tags": []
   },
   "source": [
    "Самое существенное кол-во выбросов есть по признака decline_app_cnt, так же есть выбросы по bki_request_cnt. Пока не будем удалять выбросы из датасета.\n",
    "\n",
    "Посмотрим по этим двум принакам основные стат.пказатели:"
   ]
  },
  {
   "cell_type": "code",
   "execution_count": 15,
   "metadata": {
    "execution": {
     "iopub.execute_input": "2021-02-10T11:11:22.847202Z",
     "iopub.status.busy": "2021-02-10T11:11:22.846193Z",
     "iopub.status.idle": "2021-02-10T11:11:22.856593Z",
     "shell.execute_reply": "2021-02-10T11:11:22.855979Z"
    },
    "papermill": {
     "duration": 0.102709,
     "end_time": "2021-02-10T11:11:22.856754",
     "exception": false,
     "start_time": "2021-02-10T11:11:22.754045",
     "status": "completed"
    },
    "tags": []
   },
   "outputs": [
    {
     "data": {
      "text/plain": [
       "count    110148.000000\n",
       "mean          0.273205\n",
       "std           0.799099\n",
       "min           0.000000\n",
       "25%           0.000000\n",
       "50%           0.000000\n",
       "75%           0.000000\n",
       "max          33.000000\n",
       "Name: decline_app_cnt, dtype: float64"
      ]
     },
     "execution_count": 15,
     "metadata": {},
     "output_type": "execute_result"
    }
   ],
   "source": [
    "df['decline_app_cnt'].describe()"
   ]
  },
  {
   "cell_type": "code",
   "execution_count": 16,
   "metadata": {
    "execution": {
     "iopub.execute_input": "2021-02-10T11:11:23.036677Z",
     "iopub.status.busy": "2021-02-10T11:11:23.035461Z",
     "iopub.status.idle": "2021-02-10T11:11:23.047009Z",
     "shell.execute_reply": "2021-02-10T11:11:23.046428Z"
    },
    "papermill": {
     "duration": 0.104584,
     "end_time": "2021-02-10T11:11:23.047157",
     "exception": false,
     "start_time": "2021-02-10T11:11:22.942573",
     "status": "completed"
    },
    "tags": []
   },
   "outputs": [
    {
     "data": {
      "text/plain": [
       "count    110148.000000\n",
       "mean          2.005002\n",
       "std           2.266926\n",
       "min           0.000000\n",
       "25%           0.000000\n",
       "50%           1.000000\n",
       "75%           3.000000\n",
       "max          53.000000\n",
       "Name: bki_request_cnt, dtype: float64"
      ]
     },
     "execution_count": 16,
     "metadata": {},
     "output_type": "execute_result"
    }
   ],
   "source": [
    "df['bki_request_cnt'].describe()"
   ]
  },
  {
   "cell_type": "markdown",
   "metadata": {
    "papermill": {
     "duration": 0.085986,
     "end_time": "2021-02-10T11:11:23.220285",
     "exception": false,
     "start_time": "2021-02-10T11:11:23.134299",
     "status": "completed"
    },
    "tags": []
   },
   "source": [
    "Посмотрим на Skewness до логарифмирования:"
   ]
  },
  {
   "cell_type": "code",
   "execution_count": 17,
   "metadata": {
    "execution": {
     "iopub.execute_input": "2021-02-10T11:11:23.400569Z",
     "iopub.status.busy": "2021-02-10T11:11:23.399476Z",
     "iopub.status.idle": "2021-02-10T11:11:23.410078Z",
     "shell.execute_reply": "2021-02-10T11:11:23.409541Z"
    },
    "papermill": {
     "duration": 0.103035,
     "end_time": "2021-02-10T11:11:23.410231",
     "exception": false,
     "start_time": "2021-02-10T11:11:23.307196",
     "status": "completed"
    },
    "tags": []
   },
   "outputs": [
    {
     "name": "stdout",
     "output_type": "stream",
     "text": [
      "age 0.4802480831391855\n",
      "decline_app_cnt 6.493006695946564\n",
      "score_bki 0.19398729756537827\n",
      "bki_request_cnt 3.082728151937048\n",
      "income 7.503020095049897\n"
     ]
    }
   ],
   "source": [
    "for i in num_cols:\n",
    "    print(i,df[i].skew())"
   ]
  },
  {
   "cell_type": "markdown",
   "metadata": {
    "papermill": {
     "duration": 0.086431,
     "end_time": "2021-02-10T11:11:23.582955",
     "exception": false,
     "start_time": "2021-02-10T11:11:23.496524",
     "status": "completed"
    },
    "tags": []
   },
   "source": [
    "По всем признакам кроме score_bki можно взять логарифм от признака:"
   ]
  },
  {
   "cell_type": "code",
   "execution_count": 18,
   "metadata": {
    "execution": {
     "iopub.execute_input": "2021-02-10T11:11:23.764470Z",
     "iopub.status.busy": "2021-02-10T11:11:23.763786Z",
     "iopub.status.idle": "2021-02-10T11:11:23.792087Z",
     "shell.execute_reply": "2021-02-10T11:11:23.792648Z"
    },
    "papermill": {
     "duration": 0.123529,
     "end_time": "2021-02-10T11:11:23.792857",
     "exception": false,
     "start_time": "2021-02-10T11:11:23.669328",
     "status": "completed"
    },
    "tags": []
   },
   "outputs": [],
   "source": [
    "df['age'] = np.log(df['age'] + 1)\n",
    "df['income'] = np.log(df['income'] + 1)\n",
    "df['decline_app_cnt'] = np.log(df['decline_app_cnt'] + 1)\n",
    "df['bki_request_cnt'] = np.log(df['bki_request_cnt'] + 1)"
   ]
  },
  {
   "cell_type": "markdown",
   "metadata": {
    "papermill": {
     "duration": 0.086842,
     "end_time": "2021-02-10T11:11:23.967534",
     "exception": false,
     "start_time": "2021-02-10T11:11:23.880692",
     "status": "completed"
    },
    "tags": []
   },
   "source": [
    "Посмотрим как поменялось skewness после логарифмирования:"
   ]
  },
  {
   "cell_type": "code",
   "execution_count": 19,
   "metadata": {
    "execution": {
     "iopub.execute_input": "2021-02-10T11:11:24.189376Z",
     "iopub.status.busy": "2021-02-10T11:11:24.188127Z",
     "iopub.status.idle": "2021-02-10T11:11:24.203450Z",
     "shell.execute_reply": "2021-02-10T11:11:24.202890Z"
    },
    "papermill": {
     "duration": 0.13823,
     "end_time": "2021-02-10T11:11:24.203591",
     "exception": false,
     "start_time": "2021-02-10T11:11:24.065361",
     "status": "completed"
    },
    "tags": []
   },
   "outputs": [
    {
     "name": "stdout",
     "output_type": "stream",
     "text": [
      "age 0.05015190556552752\n",
      "decline_app_cnt 2.505051536088294\n",
      "score_bki 0.19398729756537827\n",
      "bki_request_cnt 0.18033177167655778\n",
      "income 0.3590057394350352\n"
     ]
    }
   ],
   "source": [
    "for i in num_cols:\n",
    "    print(i,df[i].skew())"
   ]
  },
  {
   "cell_type": "markdown",
   "metadata": {
    "papermill": {
     "duration": 0.086424,
     "end_time": "2021-02-10T11:11:24.378538",
     "exception": false,
     "start_time": "2021-02-10T11:11:24.292114",
     "status": "completed"
    },
    "tags": []
   },
   "source": [
    "Перекос снился существенно по всем признакам кроме decline_app_cnt. По этом признаку логарифмирование не дало больших изменений в распределении."
   ]
  },
  {
   "cell_type": "markdown",
   "metadata": {
    "papermill": {
     "duration": 0.087657,
     "end_time": "2021-02-10T11:11:24.553248",
     "exception": false,
     "start_time": "2021-02-10T11:11:24.465591",
     "status": "completed"
    },
    "tags": []
   },
   "source": [
    "### 2. Категориальные переменные"
   ]
  },
  {
   "cell_type": "markdown",
   "metadata": {
    "papermill": {
     "duration": 0.090306,
     "end_time": "2021-02-10T11:11:24.732614",
     "exception": false,
     "start_time": "2021-02-10T11:11:24.642308",
     "status": "completed"
    },
    "tags": []
   },
   "source": [
    "#### sna"
   ]
  },
  {
   "cell_type": "code",
   "execution_count": 20,
   "metadata": {
    "execution": {
     "iopub.execute_input": "2021-02-10T11:11:24.934423Z",
     "iopub.status.busy": "2021-02-10T11:11:24.931272Z",
     "iopub.status.idle": "2021-02-10T11:11:25.124287Z",
     "shell.execute_reply": "2021-02-10T11:11:25.124802Z"
    },
    "papermill": {
     "duration": 0.302295,
     "end_time": "2021-02-10T11:11:25.124969",
     "exception": false,
     "start_time": "2021-02-10T11:11:24.822674",
     "status": "completed"
    },
    "tags": []
   },
   "outputs": [
    {
     "name": "stderr",
     "output_type": "stream",
     "text": [
      "/opt/conda/lib/python3.7/site-packages/seaborn/distributions.py:2557: FutureWarning: `distplot` is a deprecated function and will be removed in a future version. Please adapt your code to use either `displot` (a figure-level function with similar flexibility) or `histplot` (an axes-level function for histograms).\n",
      "  warnings.warn(msg, FutureWarning)\n"
     ]
    },
    {
     "data": {
      "image/png": "[encoded data removed]",
      "text/plain": [
       "<Figure size 432x288 with 1 Axes>"
      ]
     },
     "metadata": {
      "needs_background": "light"
     },
     "output_type": "display_data"
    }
   ],
   "source": [
    "plt.figure()\n",
    "sns.distplot(df['sna'], kde = False, rug=False, bins=10)\n",
    "plt.show()"
   ]
  },
  {
   "cell_type": "code",
   "execution_count": 21,
   "metadata": {
    "execution": {
     "iopub.execute_input": "2021-02-10T11:11:25.310610Z",
     "iopub.status.busy": "2021-02-10T11:11:25.309488Z",
     "iopub.status.idle": "2021-02-10T11:11:25.320095Z",
     "shell.execute_reply": "2021-02-10T11:11:25.320566Z"
    },
    "papermill": {
     "duration": 0.106048,
     "end_time": "2021-02-10T11:11:25.320771",
     "exception": false,
     "start_time": "2021-02-10T11:11:25.214723",
     "status": "completed"
    },
    "tags": []
   },
   "outputs": [
    {
     "data": {
      "text/plain": [
       "count    110148.000000\n",
       "mean          1.731588\n",
       "std           1.122652\n",
       "min           1.000000\n",
       "25%           1.000000\n",
       "50%           1.000000\n",
       "75%           2.000000\n",
       "max           4.000000\n",
       "Name: sna, dtype: float64"
      ]
     },
     "execution_count": 21,
     "metadata": {},
     "output_type": "execute_result"
    }
   ],
   "source": [
    "df['sna'].describe()"
   ]
  },
  {
   "cell_type": "markdown",
   "metadata": {
    "papermill": {
     "duration": 0.088474,
     "end_time": "2021-02-10T11:11:25.498367",
     "exception": false,
     "start_time": "2021-02-10T11:11:25.409893",
     "status": "completed"
    },
    "tags": []
   },
   "source": [
    "Резюме - sna: Пропусков нет. Всего 4 значения в признаке."
   ]
  },
  {
   "cell_type": "markdown",
   "metadata": {
    "papermill": {
     "duration": 0.088662,
     "end_time": "2021-02-10T11:11:25.678825",
     "exception": false,
     "start_time": "2021-02-10T11:11:25.590163",
     "status": "completed"
    },
    "tags": []
   },
   "source": [
    "#### first_time"
   ]
  },
  {
   "cell_type": "code",
   "execution_count": 22,
   "metadata": {
    "execution": {
     "iopub.execute_input": "2021-02-10T11:11:25.889003Z",
     "iopub.status.busy": "2021-02-10T11:11:25.886396Z",
     "iopub.status.idle": "2021-02-10T11:11:26.065343Z",
     "shell.execute_reply": "2021-02-10T11:11:26.064792Z"
    },
    "papermill": {
     "duration": 0.294109,
     "end_time": "2021-02-10T11:11:26.065479",
     "exception": false,
     "start_time": "2021-02-10T11:11:25.771370",
     "status": "completed"
    },
    "tags": []
   },
   "outputs": [
    {
     "data": {
      "image/png": "[encoded data removed]",
      "text/plain": [
       "<Figure size 432x288 with 1 Axes>"
      ]
     },
     "metadata": {
      "needs_background": "light"
     },
     "output_type": "display_data"
    }
   ],
   "source": [
    "plt.figure()\n",
    "sns.distplot(df['first_time'], kde = False, rug=False, bins=10)\n",
    "plt.show()"
   ]
  },
  {
   "cell_type": "code",
   "execution_count": 23,
   "metadata": {
    "execution": {
     "iopub.execute_input": "2021-02-10T11:11:26.249130Z",
     "iopub.status.busy": "2021-02-10T11:11:26.248402Z",
     "iopub.status.idle": "2021-02-10T11:11:26.258146Z",
     "shell.execute_reply": "2021-02-10T11:11:26.258595Z"
    },
    "papermill": {
     "duration": 0.103856,
     "end_time": "2021-02-10T11:11:26.258804",
     "exception": false,
     "start_time": "2021-02-10T11:11:26.154948",
     "status": "completed"
    },
    "tags": []
   },
   "outputs": [
    {
     "data": {
      "text/plain": [
       "count    110148.000000\n",
       "mean          2.765570\n",
       "std           1.010151\n",
       "min           1.000000\n",
       "25%           2.000000\n",
       "50%           3.000000\n",
       "75%           4.000000\n",
       "max           4.000000\n",
       "Name: first_time, dtype: float64"
      ]
     },
     "execution_count": 23,
     "metadata": {},
     "output_type": "execute_result"
    }
   ],
   "source": [
    "df['first_time'].describe()"
   ]
  },
  {
   "cell_type": "code",
   "execution_count": 24,
   "metadata": {
    "execution": {
     "iopub.execute_input": "2021-02-10T11:11:26.445793Z",
     "iopub.status.busy": "2021-02-10T11:11:26.445079Z",
     "iopub.status.idle": "2021-02-10T11:11:26.452360Z",
     "shell.execute_reply": "2021-02-10T11:11:26.452872Z"
    },
    "papermill": {
     "duration": 0.102346,
     "end_time": "2021-02-10T11:11:26.453036",
     "exception": false,
     "start_time": "2021-02-10T11:11:26.350690",
     "status": "completed"
    },
    "tags": []
   },
   "outputs": [
    {
     "data": {
      "text/plain": [
       "3    46588\n",
       "4    28017\n",
       "1    18296\n",
       "2    17247\n",
       "Name: first_time, dtype: int64"
      ]
     },
     "execution_count": 24,
     "metadata": {},
     "output_type": "execute_result"
    }
   ],
   "source": [
    "df['first_time'].value_counts(dropna=False)"
   ]
  },
  {
   "cell_type": "markdown",
   "metadata": {
    "papermill": {
     "duration": 0.090756,
     "end_time": "2021-02-10T11:11:26.636545",
     "exception": false,
     "start_time": "2021-02-10T11:11:26.545789",
     "status": "completed"
    },
    "tags": []
   },
   "source": [
    "Резюме - first_time: Пропусков нет. Всего 4 значения в признаке."
   ]
  },
  {
   "cell_type": "markdown",
   "metadata": {
    "papermill": {
     "duration": 0.091102,
     "end_time": "2021-02-10T11:11:26.819560",
     "exception": false,
     "start_time": "2021-02-10T11:11:26.728458",
     "status": "completed"
    },
    "tags": []
   },
   "source": [
    "#### region_rating"
   ]
  },
  {
   "cell_type": "code",
   "execution_count": 25,
   "metadata": {
    "execution": {
     "iopub.execute_input": "2021-02-10T11:11:27.006361Z",
     "iopub.status.busy": "2021-02-10T11:11:27.005673Z",
     "iopub.status.idle": "2021-02-10T11:11:27.237805Z",
     "shell.execute_reply": "2021-02-10T11:11:27.237165Z"
    },
    "papermill": {
     "duration": 0.326257,
     "end_time": "2021-02-10T11:11:27.237953",
     "exception": false,
     "start_time": "2021-02-10T11:11:26.911696",
     "status": "completed"
    },
    "tags": []
   },
   "outputs": [
    {
     "data": {
      "image/png": "[encoded data removed]",
      "text/plain": [
       "<Figure size 432x288 with 1 Axes>"
      ]
     },
     "metadata": {
      "needs_background": "light"
     },
     "output_type": "display_data"
    }
   ],
   "source": [
    "plt.figure()\n",
    "sns.distplot(df['region_rating'], kde = False, rug=False, bins=20)\n",
    "plt.show()"
   ]
  },
  {
   "cell_type": "code",
   "execution_count": 26,
   "metadata": {
    "execution": {
     "iopub.execute_input": "2021-02-10T11:11:27.430494Z",
     "iopub.status.busy": "2021-02-10T11:11:27.429887Z",
     "iopub.status.idle": "2021-02-10T11:11:27.436488Z",
     "shell.execute_reply": "2021-02-10T11:11:27.436955Z"
    },
    "papermill": {
     "duration": 0.104632,
     "end_time": "2021-02-10T11:11:27.437128",
     "exception": false,
     "start_time": "2021-02-10T11:11:27.332496",
     "status": "completed"
    },
    "tags": []
   },
   "outputs": [
    {
     "data": {
      "text/plain": [
       "50    40981\n",
       "60    23999\n",
       "40    17947\n",
       "80    17170\n",
       "70     9304\n",
       "30      434\n",
       "20      313\n",
       "Name: region_rating, dtype: int64"
      ]
     },
     "execution_count": 26,
     "metadata": {},
     "output_type": "execute_result"
    }
   ],
   "source": [
    "df['region_rating'].value_counts(dropna=False)"
   ]
  },
  {
   "cell_type": "code",
   "execution_count": 27,
   "metadata": {
    "execution": {
     "iopub.execute_input": "2021-02-10T11:11:27.623012Z",
     "iopub.status.busy": "2021-02-10T11:11:27.622352Z",
     "iopub.status.idle": "2021-02-10T11:11:27.635955Z",
     "shell.execute_reply": "2021-02-10T11:11:27.635361Z"
    },
    "papermill": {
     "duration": 0.107892,
     "end_time": "2021-02-10T11:11:27.636111",
     "exception": false,
     "start_time": "2021-02-10T11:11:27.528219",
     "status": "completed"
    },
    "tags": []
   },
   "outputs": [
    {
     "data": {
      "text/plain": [
       "count    110148.000000\n",
       "mean         56.751189\n",
       "std          13.065923\n",
       "min          20.000000\n",
       "25%          50.000000\n",
       "50%          50.000000\n",
       "75%          60.000000\n",
       "max          80.000000\n",
       "Name: region_rating, dtype: float64"
      ]
     },
     "execution_count": 27,
     "metadata": {},
     "output_type": "execute_result"
    }
   ],
   "source": [
    "df['region_rating'].describe()"
   ]
  },
  {
   "cell_type": "markdown",
   "metadata": {
    "papermill": {
     "duration": 0.092117,
     "end_time": "2021-02-10T11:11:27.821150",
     "exception": false,
     "start_time": "2021-02-10T11:11:27.729033",
     "status": "completed"
    },
    "tags": []
   },
   "source": [
    "Резюме - region_rating: Пропусков нет. Есть 7 категорий в рейтинге, среднее -50."
   ]
  },
  {
   "cell_type": "markdown",
   "metadata": {
    "papermill": {
     "duration": 0.093154,
     "end_time": "2021-02-10T11:11:28.007455",
     "exception": false,
     "start_time": "2021-02-10T11:11:27.914301",
     "status": "completed"
    },
    "tags": []
   },
   "source": [
    "#### education"
   ]
  },
  {
   "cell_type": "code",
   "execution_count": 28,
   "metadata": {
    "execution": {
     "iopub.execute_input": "2021-02-10T11:11:28.235216Z",
     "iopub.status.busy": "2021-02-10T11:11:28.222076Z",
     "iopub.status.idle": "2021-02-10T11:11:28.389336Z",
     "shell.execute_reply": "2021-02-10T11:11:28.388780Z"
    },
    "papermill": {
     "duration": 0.290429,
     "end_time": "2021-02-10T11:11:28.389478",
     "exception": false,
     "start_time": "2021-02-10T11:11:28.099049",
     "status": "completed"
    },
    "tags": []
   },
   "outputs": [
    {
     "data": {
      "text/plain": [
       "<AxesSubplot:>"
      ]
     },
     "execution_count": 28,
     "metadata": {},
     "output_type": "execute_result"
    },
    {
     "data": {
      "image/png": "[encoded data removed]",
      "text/plain": [
       "<Figure size 432x288 with 1 Axes>"
      ]
     },
     "metadata": {
      "needs_background": "light"
     },
     "output_type": "display_data"
    }
   ],
   "source": [
    "df['education'].value_counts().plot.bar()"
   ]
  },
  {
   "cell_type": "code",
   "execution_count": 29,
   "metadata": {
    "execution": {
     "iopub.execute_input": "2021-02-10T11:11:28.591772Z",
     "iopub.status.busy": "2021-02-10T11:11:28.591049Z",
     "iopub.status.idle": "2021-02-10T11:11:28.596765Z",
     "shell.execute_reply": "2021-02-10T11:11:28.596091Z"
    },
    "papermill": {
     "duration": 0.11438,
     "end_time": "2021-02-10T11:11:28.596909",
     "exception": false,
     "start_time": "2021-02-10T11:11:28.482529",
     "status": "completed"
    },
    "tags": []
   },
   "outputs": [],
   "source": [
    "# заполним пропуски в education\n",
    "# переменной education 307 (0.4%) пропущенных значений \n",
    "# заполним пропуски самым популярным значением \n",
    "df['education'] = df['education'].fillna('SCH')"
   ]
  },
  {
   "cell_type": "markdown",
   "metadata": {
    "papermill": {
     "duration": 0.094417,
     "end_time": "2021-02-10T11:11:28.785471",
     "exception": false,
     "start_time": "2021-02-10T11:11:28.691054",
     "status": "completed"
    },
    "tags": []
   },
   "source": [
    "### 3. app_date - числовой ряд"
   ]
  },
  {
   "cell_type": "code",
   "execution_count": 30,
   "metadata": {
    "execution": {
     "iopub.execute_input": "2021-02-10T11:11:28.981635Z",
     "iopub.status.busy": "2021-02-10T11:11:28.980971Z",
     "iopub.status.idle": "2021-02-10T11:11:29.011908Z",
     "shell.execute_reply": "2021-02-10T11:11:29.012463Z"
    },
    "papermill": {
     "duration": 0.132246,
     "end_time": "2021-02-10T11:11:29.012659",
     "exception": false,
     "start_time": "2021-02-10T11:11:28.880413",
     "status": "completed"
    },
    "tags": []
   },
   "outputs": [],
   "source": [
    "# Преобразуем формат признака\n",
    "df.app_date = pd.to_datetime(df.app_date, format='%d%b%Y')"
   ]
  },
  {
   "cell_type": "code",
   "execution_count": 31,
   "metadata": {
    "execution": {
     "iopub.execute_input": "2021-02-10T11:11:29.202742Z",
     "iopub.status.busy": "2021-02-10T11:11:29.201955Z",
     "iopub.status.idle": "2021-02-10T11:11:29.210391Z",
     "shell.execute_reply": "2021-02-10T11:11:29.210932Z"
    },
    "papermill": {
     "duration": 0.105179,
     "end_time": "2021-02-10T11:11:29.211175",
     "exception": false,
     "start_time": "2021-02-10T11:11:29.105996",
     "status": "completed"
    },
    "tags": []
   },
   "outputs": [
    {
     "data": {
      "text/plain": [
       "(Timestamp('2014-01-01 00:00:00'), Timestamp('2014-04-30 00:00:00'))"
      ]
     },
     "execution_count": 31,
     "metadata": {},
     "output_type": "execute_result"
    }
   ],
   "source": [
    "# Выясняем начало и конец периода нашего датасета - это 1 января и 30 апреля 2014 года\n",
    "start = df.app_date.min()\n",
    "end = df.app_date.max()\n",
    "start,end"
   ]
  },
  {
   "cell_type": "code",
   "execution_count": 32,
   "metadata": {
    "execution": {
     "iopub.execute_input": "2021-02-10T11:11:29.412979Z",
     "iopub.status.busy": "2021-02-10T11:11:29.412237Z",
     "iopub.status.idle": "2021-02-10T11:11:29.420045Z",
     "shell.execute_reply": "2021-02-10T11:11:29.420534Z"
    },
    "papermill": {
     "duration": 0.104074,
     "end_time": "2021-02-10T11:11:29.420700",
     "exception": false,
     "start_time": "2021-02-10T11:11:29.316626",
     "status": "completed"
    },
    "tags": []
   },
   "outputs": [],
   "source": [
    "# Вводим новый признак - номер дня с 1 января\n",
    "df['days'] = (df.app_date - start).dt.days.astype('int')"
   ]
  },
  {
   "cell_type": "code",
   "execution_count": 33,
   "metadata": {
    "execution": {
     "iopub.execute_input": "2021-02-10T11:11:29.615254Z",
     "iopub.status.busy": "2021-02-10T11:11:29.614525Z",
     "iopub.status.idle": "2021-02-10T11:11:30.334919Z",
     "shell.execute_reply": "2021-02-10T11:11:30.335385Z"
    },
    "papermill": {
     "duration": 0.817322,
     "end_time": "2021-02-10T11:11:30.335568",
     "exception": false,
     "start_time": "2021-02-10T11:11:29.518246",
     "status": "completed"
    },
    "tags": []
   },
   "outputs": [
    {
     "data": {
      "image/png": "[encoded data removed]",
      "text/plain": [
       "<Figure size 864x288 with 1 Axes>"
      ]
     },
     "metadata": {
      "needs_background": "light"
     },
     "output_type": "display_data"
    }
   ],
   "source": [
    "# Среднее число дефолтов по тренировочному датасету отрицательно коррелирует с месяцем подачи заявки\n",
    "plt.style.use('seaborn-paper')\n",
    "plt.subplots(figsize=(12, 4))\n",
    "color_text = plt.get_cmap('PuBu')(0.85)\n",
    "sns.barplot(data=df[df['Train']==1], x=df.loc[df['Train']==1,'app_date'].dt.month, y='default', palette=\"PuBu\");"
   ]
  },
  {
   "cell_type": "code",
   "execution_count": 34,
   "metadata": {
    "execution": {
     "iopub.execute_input": "2021-02-10T11:11:30.532024Z",
     "iopub.status.busy": "2021-02-10T11:11:30.531003Z",
     "iopub.status.idle": "2021-02-10T11:11:30.939748Z",
     "shell.execute_reply": "2021-02-10T11:11:30.940309Z"
    },
    "papermill": {
     "duration": 0.51035,
     "end_time": "2021-02-10T11:11:30.940480",
     "exception": false,
     "start_time": "2021-02-10T11:11:30.430130",
     "status": "completed"
    },
    "tags": []
   },
   "outputs": [
    {
     "data": {
      "text/plain": [
       "<AxesSubplot:xlabel='client_id', ylabel='days'>"
      ]
     },
     "execution_count": 34,
     "metadata": {},
     "output_type": "execute_result"
    },
    {
     "data": {
      "image/png": "[encoded data removed]",
      "text/plain": [
       "<Figure size 460.8x316.8 with 1 Axes>"
      ]
     },
     "metadata": {
      "needs_background": "light"
     },
     "output_type": "display_data"
    }
   ],
   "source": [
    "# Выясняем, что в банке велась сквозная нумерация клиентов в зависимости от дня обращения\n",
    "sns.scatterplot(x='client_id',y='days',data=df)"
   ]
  },
  {
   "cell_type": "markdown",
   "metadata": {
    "papermill": {
     "duration": 0.094929,
     "end_time": "2021-02-10T11:11:31.132808",
     "exception": false,
     "start_time": "2021-02-10T11:11:31.037879",
     "status": "completed"
    },
    "tags": []
   },
   "source": [
    "### Оценим корреляцию Пирсона для непрерывных переменных по формуле:"
   ]
  },
  {
   "cell_type": "code",
   "execution_count": 35,
   "metadata": {
    "execution": {
     "iopub.execute_input": "2021-02-10T11:11:31.324663Z",
     "iopub.status.busy": "2021-02-10T11:11:31.324050Z",
     "iopub.status.idle": "2021-02-10T11:11:31.646311Z",
     "shell.execute_reply": "2021-02-10T11:11:31.645585Z"
    },
    "papermill": {
     "duration": 0.419486,
     "end_time": "2021-02-10T11:11:31.646458",
     "exception": false,
     "start_time": "2021-02-10T11:11:31.226972",
     "status": "completed"
    },
    "tags": []
   },
   "outputs": [
    {
     "data": {
      "text/plain": [
       "<AxesSubplot:>"
      ]
     },
     "execution_count": 35,
     "metadata": {},
     "output_type": "execute_result"
    },
    {
     "data": {
      "image/png": "[encoded data removed]",
      "text/plain": [
       "<Figure size 460.8x316.8 with 2 Axes>"
      ]
     },
     "metadata": {
      "needs_background": "light"
     },
     "output_type": "display_data"
    }
   ],
   "source": [
    "sns.heatmap(df[num_cols].corr().abs(), annot=True, vmin=0, vmax=1,cmap='Blues')"
   ]
  },
  {
   "cell_type": "markdown",
   "metadata": {
    "papermill": {
     "duration": 0.096463,
     "end_time": "2021-02-10T11:11:31.839545",
     "exception": false,
     "start_time": "2021-02-10T11:11:31.743082",
     "status": "completed"
    },
    "tags": []
   },
   "source": [
    "Резюме - сильно скорелированных между собой признаков нет, все берем в работу"
   ]
  },
  {
   "cell_type": "markdown",
   "metadata": {
    "papermill": {
     "duration": 0.095959,
     "end_time": "2021-02-10T11:11:32.031802",
     "exception": false,
     "start_time": "2021-02-10T11:11:31.935843",
     "status": "completed"
    },
    "tags": []
   },
   "source": [
    "### Оценка значимости числовых переменных"
   ]
  },
  {
   "cell_type": "code",
   "execution_count": 36,
   "metadata": {
    "execution": {
     "iopub.execute_input": "2021-02-10T11:11:32.227531Z",
     "iopub.status.busy": "2021-02-10T11:11:32.226869Z",
     "iopub.status.idle": "2021-02-10T11:11:32.590734Z",
     "shell.execute_reply": "2021-02-10T11:11:32.590199Z"
    },
    "papermill": {
     "duration": 0.463127,
     "end_time": "2021-02-10T11:11:32.590882",
     "exception": false,
     "start_time": "2021-02-10T11:11:32.127755",
     "status": "completed"
    },
    "tags": []
   },
   "outputs": [
    {
     "data": {
      "text/plain": [
       "<AxesSubplot:title={'center':'Значимость непрерывных переменных по ANOVA F test'}>"
      ]
     },
     "execution_count": 36,
     "metadata": {},
     "output_type": "execute_result"
    },
    {
     "data": {
      "image/png": "[encoded data removed]",
      "text/plain": [
       "<Figure size 460.8x316.8 with 1 Axes>"
      ]
     },
     "metadata": {
      "needs_background": "light"
     },
     "output_type": "display_data"
    }
   ],
   "source": [
    "temp_df = df[df['Train']==1]\n",
    "imp_num = pd.Series(f_classif(temp_df[num_cols], temp_df['default'])[0], index = num_cols)\n",
    "imp_num.sort_values(inplace = True)\n",
    "imp_num.plot(kind = 'barh', title='Значимость непрерывных переменных по ANOVA F test')"
   ]
  },
  {
   "cell_type": "markdown",
   "metadata": {
    "papermill": {
     "duration": 0.099021,
     "end_time": "2021-02-10T11:11:32.787010",
     "exception": false,
     "start_time": "2021-02-10T11:11:32.687989",
     "status": "completed"
    },
    "tags": []
   },
   "source": [
    "Резюме - оценка плательщика БКИ (score_bki) самый значимый показатель по ANOVA F test, потом кол-во отказанных заявок (declain_app_cnt) и в конце возраст (age)"
   ]
  },
  {
   "cell_type": "markdown",
   "metadata": {
    "papermill": {
     "duration": 0.097962,
     "end_time": "2021-02-10T11:11:32.983999",
     "exception": false,
     "start_time": "2021-02-10T11:11:32.886037",
     "status": "completed"
    },
    "tags": []
   },
   "source": [
    "### Обработаем категориальные и бинарные переменные"
   ]
  },
  {
   "cell_type": "markdown",
   "metadata": {
    "papermill": {
     "duration": 0.098119,
     "end_time": "2021-02-10T11:11:33.179739",
     "exception": false,
     "start_time": "2021-02-10T11:11:33.081620",
     "status": "completed"
    },
    "tags": []
   },
   "source": [
    "Для остальных бинарных признаков также мы будем использовать LabelEncoder"
   ]
  },
  {
   "cell_type": "code",
   "execution_count": 37,
   "metadata": {
    "execution": {
     "iopub.execute_input": "2021-02-10T11:11:33.417419Z",
     "iopub.status.busy": "2021-02-10T11:11:33.416650Z",
     "iopub.status.idle": "2021-02-10T11:11:33.543540Z",
     "shell.execute_reply": "2021-02-10T11:11:33.544061Z"
    },
    "papermill": {
     "duration": 0.266947,
     "end_time": "2021-02-10T11:11:33.544249",
     "exception": false,
     "start_time": "2021-02-10T11:11:33.277302",
     "status": "completed"
    },
    "tags": []
   },
   "outputs": [],
   "source": [
    "label_encoder = LabelEncoder()\n",
    "for column in bin_cols:\n",
    "    df[column] = label_encoder.fit_transform(df[column])"
   ]
  },
  {
   "cell_type": "code",
   "execution_count": 38,
   "metadata": {
    "execution": {
     "iopub.execute_input": "2021-02-10T11:11:33.775467Z",
     "iopub.status.busy": "2021-02-10T11:11:33.756429Z",
     "iopub.status.idle": "2021-02-10T11:11:33.779873Z",
     "shell.execute_reply": "2021-02-10T11:11:33.779359Z"
    },
    "papermill": {
     "duration": 0.137101,
     "end_time": "2021-02-10T11:11:33.780023",
     "exception": false,
     "start_time": "2021-02-10T11:11:33.642922",
     "status": "completed"
    },
    "tags": []
   },
   "outputs": [
    {
     "data": {
      "text/html": [
       "<div>\n",
       "<style scoped>\n",
       "    .dataframe tbody tr th:only-of-type {\n",
       "        vertical-align: middle;\n",
       "    }\n",
       "\n",
       "    .dataframe tbody tr th {\n",
       "        vertical-align: top;\n",
       "    }\n",
       "\n",
       "    .dataframe thead th {\n",
       "        text-align: right;\n",
       "    }\n",
       "</style>\n",
       "<table border=\"1\" class=\"dataframe\">\n",
       "  <thead>\n",
       "    <tr style=\"text-align: right;\">\n",
       "      <th></th>\n",
       "      <th>client_id</th>\n",
       "      <th>app_date</th>\n",
       "      <th>education</th>\n",
       "      <th>sex</th>\n",
       "      <th>age</th>\n",
       "      <th>car</th>\n",
       "      <th>car_type</th>\n",
       "      <th>decline_app_cnt</th>\n",
       "      <th>good_work</th>\n",
       "      <th>score_bki</th>\n",
       "      <th>...</th>\n",
       "      <th>region_rating</th>\n",
       "      <th>home_address</th>\n",
       "      <th>work_address</th>\n",
       "      <th>income</th>\n",
       "      <th>sna</th>\n",
       "      <th>first_time</th>\n",
       "      <th>foreign_passport</th>\n",
       "      <th>default</th>\n",
       "      <th>Train</th>\n",
       "      <th>days</th>\n",
       "    </tr>\n",
       "  </thead>\n",
       "  <tbody>\n",
       "    <tr>\n",
       "      <th>0</th>\n",
       "      <td>25905</td>\n",
       "      <td>2014-02-01</td>\n",
       "      <td>SCH</td>\n",
       "      <td>1</td>\n",
       "      <td>4.143135</td>\n",
       "      <td>1</td>\n",
       "      <td>1</td>\n",
       "      <td>0.000000</td>\n",
       "      <td>0</td>\n",
       "      <td>-2.008753</td>\n",
       "      <td>...</td>\n",
       "      <td>50</td>\n",
       "      <td>1</td>\n",
       "      <td>2</td>\n",
       "      <td>9.798183</td>\n",
       "      <td>4</td>\n",
       "      <td>1</td>\n",
       "      <td>0</td>\n",
       "      <td>0.0</td>\n",
       "      <td>1</td>\n",
       "      <td>31</td>\n",
       "    </tr>\n",
       "    <tr>\n",
       "      <th>1</th>\n",
       "      <td>63161</td>\n",
       "      <td>2014-03-12</td>\n",
       "      <td>SCH</td>\n",
       "      <td>0</td>\n",
       "      <td>4.094345</td>\n",
       "      <td>0</td>\n",
       "      <td>0</td>\n",
       "      <td>0.000000</td>\n",
       "      <td>0</td>\n",
       "      <td>-1.532276</td>\n",
       "      <td>...</td>\n",
       "      <td>50</td>\n",
       "      <td>2</td>\n",
       "      <td>3</td>\n",
       "      <td>9.852247</td>\n",
       "      <td>4</td>\n",
       "      <td>1</td>\n",
       "      <td>0</td>\n",
       "      <td>0.0</td>\n",
       "      <td>1</td>\n",
       "      <td>70</td>\n",
       "    </tr>\n",
       "    <tr>\n",
       "      <th>2</th>\n",
       "      <td>25887</td>\n",
       "      <td>2014-02-01</td>\n",
       "      <td>SCH</td>\n",
       "      <td>1</td>\n",
       "      <td>3.258097</td>\n",
       "      <td>1</td>\n",
       "      <td>0</td>\n",
       "      <td>1.098612</td>\n",
       "      <td>0</td>\n",
       "      <td>-1.408142</td>\n",
       "      <td>...</td>\n",
       "      <td>80</td>\n",
       "      <td>1</td>\n",
       "      <td>2</td>\n",
       "      <td>10.308986</td>\n",
       "      <td>1</td>\n",
       "      <td>4</td>\n",
       "      <td>1</td>\n",
       "      <td>0.0</td>\n",
       "      <td>1</td>\n",
       "      <td>31</td>\n",
       "    </tr>\n",
       "    <tr>\n",
       "      <th>3</th>\n",
       "      <td>16222</td>\n",
       "      <td>2014-01-23</td>\n",
       "      <td>SCH</td>\n",
       "      <td>0</td>\n",
       "      <td>3.988984</td>\n",
       "      <td>0</td>\n",
       "      <td>0</td>\n",
       "      <td>0.000000</td>\n",
       "      <td>0</td>\n",
       "      <td>-2.057471</td>\n",
       "      <td>...</td>\n",
       "      <td>50</td>\n",
       "      <td>2</td>\n",
       "      <td>3</td>\n",
       "      <td>9.210440</td>\n",
       "      <td>1</td>\n",
       "      <td>3</td>\n",
       "      <td>0</td>\n",
       "      <td>0.0</td>\n",
       "      <td>1</td>\n",
       "      <td>22</td>\n",
       "    </tr>\n",
       "    <tr>\n",
       "      <th>4</th>\n",
       "      <td>101655</td>\n",
       "      <td>2014-04-18</td>\n",
       "      <td>GRD</td>\n",
       "      <td>1</td>\n",
       "      <td>3.891820</td>\n",
       "      <td>0</td>\n",
       "      <td>0</td>\n",
       "      <td>0.000000</td>\n",
       "      <td>1</td>\n",
       "      <td>-1.244723</td>\n",
       "      <td>...</td>\n",
       "      <td>60</td>\n",
       "      <td>2</td>\n",
       "      <td>3</td>\n",
       "      <td>10.308986</td>\n",
       "      <td>1</td>\n",
       "      <td>4</td>\n",
       "      <td>1</td>\n",
       "      <td>0.0</td>\n",
       "      <td>1</td>\n",
       "      <td>107</td>\n",
       "    </tr>\n",
       "  </tbody>\n",
       "</table>\n",
       "<p>5 rows × 21 columns</p>\n",
       "</div>"
      ],
      "text/plain": [
       "   client_id   app_date education  sex       age  car  car_type  \\\n",
       "0      25905 2014-02-01       SCH    1  4.143135    1         1   \n",
       "1      63161 2014-03-12       SCH    0  4.094345    0         0   \n",
       "2      25887 2014-02-01       SCH    1  3.258097    1         0   \n",
       "3      16222 2014-01-23       SCH    0  3.988984    0         0   \n",
       "4     101655 2014-04-18       GRD    1  3.891820    0         0   \n",
       "\n",
       "   decline_app_cnt  good_work  score_bki  ...  region_rating  home_address  \\\n",
       "0         0.000000          0  -2.008753  ...             50             1   \n",
       "1         0.000000          0  -1.532276  ...             50             2   \n",
       "2         1.098612          0  -1.408142  ...             80             1   \n",
       "3         0.000000          0  -2.057471  ...             50             2   \n",
       "4         0.000000          1  -1.244723  ...             60             2   \n",
       "\n",
       "   work_address     income  sna  first_time  foreign_passport  default  Train  \\\n",
       "0             2   9.798183    4           1                 0      0.0      1   \n",
       "1             3   9.852247    4           1                 0      0.0      1   \n",
       "2             2  10.308986    1           4                 1      0.0      1   \n",
       "3             3   9.210440    1           3                 0      0.0      1   \n",
       "4             3  10.308986    1           4                 1      0.0      1   \n",
       "\n",
       "   days  \n",
       "0    31  \n",
       "1    70  \n",
       "2    31  \n",
       "3    22  \n",
       "4   107  \n",
       "\n",
       "[5 rows x 21 columns]"
      ]
     },
     "execution_count": 38,
     "metadata": {},
     "output_type": "execute_result"
    }
   ],
   "source": [
    "# убедимся в преобразовании    \n",
    "df.head()"
   ]
  },
  {
   "cell_type": "code",
   "execution_count": 39,
   "metadata": {
    "execution": {
     "iopub.execute_input": "2021-02-10T11:11:34.012157Z",
     "iopub.status.busy": "2021-02-10T11:11:34.011466Z",
     "iopub.status.idle": "2021-02-10T11:11:34.017136Z",
     "shell.execute_reply": "2021-02-10T11:11:34.017632Z"
    },
    "papermill": {
     "duration": 0.139338,
     "end_time": "2021-02-10T11:11:34.017826",
     "exception": false,
     "start_time": "2021-02-10T11:11:33.878488",
     "status": "completed"
    },
    "tags": []
   },
   "outputs": [
    {
     "data": {
      "text/plain": [
       "SCH    58476\n",
       "GRD    34768\n",
       "UGR    14748\n",
       "PGR     1865\n",
       "ACD      291\n",
       "Name: education, dtype: int64"
      ]
     },
     "execution_count": 39,
     "metadata": {},
     "output_type": "execute_result"
    }
   ],
   "source": [
    "df['education'].value_counts(dropna=False)"
   ]
  },
  {
   "cell_type": "code",
   "execution_count": 40,
   "metadata": {
    "execution": {
     "iopub.execute_input": "2021-02-10T11:11:34.220842Z",
     "iopub.status.busy": "2021-02-10T11:11:34.220185Z",
     "iopub.status.idle": "2021-02-10T11:11:34.261905Z",
     "shell.execute_reply": "2021-02-10T11:11:34.261378Z"
    },
    "papermill": {
     "duration": 0.1434,
     "end_time": "2021-02-10T11:11:34.262050",
     "exception": false,
     "start_time": "2021-02-10T11:11:34.118650",
     "status": "completed"
    },
    "tags": []
   },
   "outputs": [
    {
     "data": {
      "text/html": [
       "<div>\n",
       "<style scoped>\n",
       "    .dataframe tbody tr th:only-of-type {\n",
       "        vertical-align: middle;\n",
       "    }\n",
       "\n",
       "    .dataframe tbody tr th {\n",
       "        vertical-align: top;\n",
       "    }\n",
       "\n",
       "    .dataframe thead th {\n",
       "        text-align: right;\n",
       "    }\n",
       "</style>\n",
       "<table border=\"1\" class=\"dataframe\">\n",
       "  <thead>\n",
       "    <tr style=\"text-align: right;\">\n",
       "      <th></th>\n",
       "      <th>client_id</th>\n",
       "      <th>app_date</th>\n",
       "      <th>education</th>\n",
       "      <th>sex</th>\n",
       "      <th>age</th>\n",
       "      <th>car</th>\n",
       "      <th>car_type</th>\n",
       "      <th>decline_app_cnt</th>\n",
       "      <th>good_work</th>\n",
       "      <th>score_bki</th>\n",
       "      <th>...</th>\n",
       "      <th>region_rating</th>\n",
       "      <th>home_address</th>\n",
       "      <th>work_address</th>\n",
       "      <th>income</th>\n",
       "      <th>sna</th>\n",
       "      <th>first_time</th>\n",
       "      <th>foreign_passport</th>\n",
       "      <th>default</th>\n",
       "      <th>Train</th>\n",
       "      <th>days</th>\n",
       "    </tr>\n",
       "  </thead>\n",
       "  <tbody>\n",
       "    <tr>\n",
       "      <th>0</th>\n",
       "      <td>25905</td>\n",
       "      <td>2014-02-01</td>\n",
       "      <td>1</td>\n",
       "      <td>1</td>\n",
       "      <td>4.143135</td>\n",
       "      <td>1</td>\n",
       "      <td>1</td>\n",
       "      <td>0.000000</td>\n",
       "      <td>0</td>\n",
       "      <td>-2.008753</td>\n",
       "      <td>...</td>\n",
       "      <td>50</td>\n",
       "      <td>1</td>\n",
       "      <td>2</td>\n",
       "      <td>9.798183</td>\n",
       "      <td>4</td>\n",
       "      <td>1</td>\n",
       "      <td>0</td>\n",
       "      <td>0.0</td>\n",
       "      <td>1</td>\n",
       "      <td>31</td>\n",
       "    </tr>\n",
       "    <tr>\n",
       "      <th>1</th>\n",
       "      <td>63161</td>\n",
       "      <td>2014-03-12</td>\n",
       "      <td>1</td>\n",
       "      <td>0</td>\n",
       "      <td>4.094345</td>\n",
       "      <td>0</td>\n",
       "      <td>0</td>\n",
       "      <td>0.000000</td>\n",
       "      <td>0</td>\n",
       "      <td>-1.532276</td>\n",
       "      <td>...</td>\n",
       "      <td>50</td>\n",
       "      <td>2</td>\n",
       "      <td>3</td>\n",
       "      <td>9.852247</td>\n",
       "      <td>4</td>\n",
       "      <td>1</td>\n",
       "      <td>0</td>\n",
       "      <td>0.0</td>\n",
       "      <td>1</td>\n",
       "      <td>70</td>\n",
       "    </tr>\n",
       "    <tr>\n",
       "      <th>2</th>\n",
       "      <td>25887</td>\n",
       "      <td>2014-02-01</td>\n",
       "      <td>1</td>\n",
       "      <td>1</td>\n",
       "      <td>3.258097</td>\n",
       "      <td>1</td>\n",
       "      <td>0</td>\n",
       "      <td>1.098612</td>\n",
       "      <td>0</td>\n",
       "      <td>-1.408142</td>\n",
       "      <td>...</td>\n",
       "      <td>80</td>\n",
       "      <td>1</td>\n",
       "      <td>2</td>\n",
       "      <td>10.308986</td>\n",
       "      <td>1</td>\n",
       "      <td>4</td>\n",
       "      <td>1</td>\n",
       "      <td>0.0</td>\n",
       "      <td>1</td>\n",
       "      <td>31</td>\n",
       "    </tr>\n",
       "    <tr>\n",
       "      <th>3</th>\n",
       "      <td>16222</td>\n",
       "      <td>2014-01-23</td>\n",
       "      <td>1</td>\n",
       "      <td>0</td>\n",
       "      <td>3.988984</td>\n",
       "      <td>0</td>\n",
       "      <td>0</td>\n",
       "      <td>0.000000</td>\n",
       "      <td>0</td>\n",
       "      <td>-2.057471</td>\n",
       "      <td>...</td>\n",
       "      <td>50</td>\n",
       "      <td>2</td>\n",
       "      <td>3</td>\n",
       "      <td>9.210440</td>\n",
       "      <td>1</td>\n",
       "      <td>3</td>\n",
       "      <td>0</td>\n",
       "      <td>0.0</td>\n",
       "      <td>1</td>\n",
       "      <td>22</td>\n",
       "    </tr>\n",
       "    <tr>\n",
       "      <th>4</th>\n",
       "      <td>101655</td>\n",
       "      <td>2014-04-18</td>\n",
       "      <td>3</td>\n",
       "      <td>1</td>\n",
       "      <td>3.891820</td>\n",
       "      <td>0</td>\n",
       "      <td>0</td>\n",
       "      <td>0.000000</td>\n",
       "      <td>1</td>\n",
       "      <td>-1.244723</td>\n",
       "      <td>...</td>\n",
       "      <td>60</td>\n",
       "      <td>2</td>\n",
       "      <td>3</td>\n",
       "      <td>10.308986</td>\n",
       "      <td>1</td>\n",
       "      <td>4</td>\n",
       "      <td>1</td>\n",
       "      <td>0.0</td>\n",
       "      <td>1</td>\n",
       "      <td>107</td>\n",
       "    </tr>\n",
       "  </tbody>\n",
       "</table>\n",
       "<p>5 rows × 21 columns</p>\n",
       "</div>"
      ],
      "text/plain": [
       "   client_id   app_date  education  sex       age  car  car_type  \\\n",
       "0      25905 2014-02-01          1    1  4.143135    1         1   \n",
       "1      63161 2014-03-12          1    0  4.094345    0         0   \n",
       "2      25887 2014-02-01          1    1  3.258097    1         0   \n",
       "3      16222 2014-01-23          1    0  3.988984    0         0   \n",
       "4     101655 2014-04-18          3    1  3.891820    0         0   \n",
       "\n",
       "   decline_app_cnt  good_work  score_bki  ...  region_rating  home_address  \\\n",
       "0         0.000000          0  -2.008753  ...             50             1   \n",
       "1         0.000000          0  -1.532276  ...             50             2   \n",
       "2         1.098612          0  -1.408142  ...             80             1   \n",
       "3         0.000000          0  -2.057471  ...             50             2   \n",
       "4         0.000000          1  -1.244723  ...             60             2   \n",
       "\n",
       "   work_address     income  sna  first_time  foreign_passport  default  Train  \\\n",
       "0             2   9.798183    4           1                 0      0.0      1   \n",
       "1             3   9.852247    4           1                 0      0.0      1   \n",
       "2             2  10.308986    1           4                 1      0.0      1   \n",
       "3             3   9.210440    1           3                 0      0.0      1   \n",
       "4             3  10.308986    1           4                 1      0.0      1   \n",
       "\n",
       "   days  \n",
       "0    31  \n",
       "1    70  \n",
       "2    31  \n",
       "3    22  \n",
       "4   107  \n",
       "\n",
       "[5 rows x 21 columns]"
      ]
     },
     "execution_count": 40,
     "metadata": {},
     "output_type": "execute_result"
    }
   ],
   "source": [
    "df['education'] = df['education'].map({'SCH': 1,'UGR': 2,\n",
    "            'GRD': 3,'PGR': 4,'ACD': 5})\n",
    "df.head()"
   ]
  },
  {
   "cell_type": "markdown",
   "metadata": {
    "papermill": {
     "duration": 0.099212,
     "end_time": "2021-02-10T11:11:34.460893",
     "exception": false,
     "start_time": "2021-02-10T11:11:34.361681",
     "status": "completed"
    },
    "tags": []
   },
   "source": [
    "### Посмотрим на значимость категориальных и бинарных переменных "
   ]
  },
  {
   "cell_type": "code",
   "execution_count": 41,
   "metadata": {
    "execution": {
     "iopub.execute_input": "2021-02-10T11:11:34.667669Z",
     "iopub.status.busy": "2021-02-10T11:11:34.666521Z",
     "iopub.status.idle": "2021-02-10T11:11:35.047852Z",
     "shell.execute_reply": "2021-02-10T11:11:35.047162Z"
    },
    "papermill": {
     "duration": 0.487478,
     "end_time": "2021-02-10T11:11:35.048005",
     "exception": false,
     "start_time": "2021-02-10T11:11:34.560527",
     "status": "completed"
    },
    "tags": []
   },
   "outputs": [
    {
     "name": "stdout",
     "output_type": "stream",
     "text": [
      "['education', 'region_rating', 'home_address', 'work_address', 'sna', 'first_time', 'sex', 'car', 'car_type', 'good_work', 'foreign_passport']\n"
     ]
    },
    {
     "data": {
      "text/plain": [
       "<AxesSubplot:title={'center':'Значимость бин. и категор. переменных по Mutual information test'}>"
      ]
     },
     "execution_count": 41,
     "metadata": {},
     "output_type": "execute_result"
    },
    {
     "data": {
      "image/png": "[encoded data removed]",
      "text/plain": [
       "<Figure size 460.8x316.8 with 1 Axes>"
      ]
     },
     "metadata": {
      "needs_background": "light"
     },
     "output_type": "display_data"
    }
   ],
   "source": [
    "all_cat_and_bin_cols = cat_cols+bin_cols\n",
    "print(all_cat_and_bin_cols)\n",
    "\n",
    "temp_df = df[df['Train']==1]\n",
    "imp_cat = pd.Series(mutual_info_classif(temp_df[all_cat_and_bin_cols], temp_df['default'], discrete_features =True), index = all_cat_and_bin_cols)\n",
    "imp_cat.sort_values(inplace = True)\n",
    "imp_cat.plot(kind = 'barh', title = 'Значимость бин. и категор. переменных по Mutual information test')"
   ]
  },
  {
   "cell_type": "markdown",
   "metadata": {
    "papermill": {
     "duration": 0.104029,
     "end_time": "2021-02-10T11:11:35.270621",
     "exception": false,
     "start_time": "2021-02-10T11:11:35.166592",
     "status": "completed"
    },
    "tags": []
   },
   "source": [
    "Резюме - Самым значимым признаком является связь заемщика с клиентами банка (sna) и давность наличия информации о заемщике (first_time), потом идет рейтинг региона (region_rating) и в конце пол (sex)."
   ]
  },
  {
   "cell_type": "markdown",
   "metadata": {
    "papermill": {
     "duration": 0.101004,
     "end_time": "2021-02-10T11:11:35.472837",
     "exception": false,
     "start_time": "2021-02-10T11:11:35.371833",
     "status": "completed"
    },
    "tags": []
   },
   "source": [
    "## 5. Подготовка данных к машинному обучению"
   ]
  },
  {
   "cell_type": "code",
   "execution_count": 42,
   "metadata": {
    "execution": {
     "iopub.execute_input": "2021-02-10T11:11:35.683126Z",
     "iopub.status.busy": "2021-02-10T11:11:35.682064Z",
     "iopub.status.idle": "2021-02-10T11:11:35.699206Z",
     "shell.execute_reply": "2021-02-10T11:11:35.700241Z"
    },
    "papermill": {
     "duration": 0.124964,
     "end_time": "2021-02-10T11:11:35.700555",
     "exception": false,
     "start_time": "2021-02-10T11:11:35.575591",
     "status": "completed"
    },
    "tags": []
   },
   "outputs": [
    {
     "name": "stdout",
     "output_type": "stream",
     "text": [
      "<class 'pandas.core.frame.DataFrame'>\n",
      "RangeIndex: 110148 entries, 0 to 110147\n",
      "Data columns (total 21 columns):\n",
      " #   Column            Non-Null Count   Dtype         \n",
      "---  ------            --------------   -----         \n",
      " 0   client_id         110148 non-null  int64         \n",
      " 1   app_date          110148 non-null  datetime64[ns]\n",
      " 2   education         110148 non-null  int64         \n",
      " 3   sex               110148 non-null  int64         \n",
      " 4   age               110148 non-null  float64       \n",
      " 5   car               110148 non-null  int64         \n",
      " 6   car_type          110148 non-null  int64         \n",
      " 7   decline_app_cnt   110148 non-null  float64       \n",
      " 8   good_work         110148 non-null  int64         \n",
      " 9   score_bki         110148 non-null  float64       \n",
      " 10  bki_request_cnt   110148 non-null  float64       \n",
      " 11  region_rating     110148 non-null  int64         \n",
      " 12  home_address      110148 non-null  int64         \n",
      " 13  work_address      110148 non-null  int64         \n",
      " 14  income            110148 non-null  float64       \n",
      " 15  sna               110148 non-null  int64         \n",
      " 16  first_time        110148 non-null  int64         \n",
      " 17  foreign_passport  110148 non-null  int64         \n",
      " 18  default           73799 non-null   float64       \n",
      " 19  Train             110148 non-null  int64         \n",
      " 20  days              110148 non-null  int64         \n",
      "dtypes: datetime64[ns](1), float64(6), int64(14)\n",
      "memory usage: 17.6 MB\n"
     ]
    }
   ],
   "source": [
    "df.info()"
   ]
  },
  {
   "cell_type": "code",
   "execution_count": null,
   "metadata": {
    "papermill": {
     "duration": 0.102131,
     "end_time": "2021-02-10T11:11:35.907377",
     "exception": false,
     "start_time": "2021-02-10T11:11:35.805246",
     "status": "completed"
    },
    "tags": []
   },
   "outputs": [],
   "source": []
  },
  {
   "cell_type": "markdown",
   "metadata": {
    "papermill": {
     "duration": 0.102581,
     "end_time": "2021-02-10T11:11:36.112943",
     "exception": false,
     "start_time": "2021-02-10T11:11:36.010362",
     "status": "completed"
    },
    "tags": []
   },
   "source": [
    "### Категориальные признаки"
   ]
  },
  {
   "cell_type": "code",
   "execution_count": 43,
   "metadata": {
    "execution": {
     "iopub.execute_input": "2021-02-10T11:11:36.331143Z",
     "iopub.status.busy": "2021-02-10T11:11:36.330437Z",
     "iopub.status.idle": "2021-02-10T11:11:36.356815Z",
     "shell.execute_reply": "2021-02-10T11:11:36.356245Z"
    },
    "papermill": {
     "duration": 0.140743,
     "end_time": "2021-02-10T11:11:36.356979",
     "exception": false,
     "start_time": "2021-02-10T11:11:36.216236",
     "status": "completed"
    },
    "tags": []
   },
   "outputs": [],
   "source": [
    "#реализуем метод OneHotLabels через get_dummies\n",
    "df=pd.get_dummies(df, prefix=cat_cols, columns=cat_cols)"
   ]
  },
  {
   "cell_type": "markdown",
   "metadata": {
    "papermill": {
     "duration": 0.1017,
     "end_time": "2021-02-10T11:11:36.560373",
     "exception": false,
     "start_time": "2021-02-10T11:11:36.458673",
     "status": "completed"
    },
    "tags": []
   },
   "source": [
    "### Стандартизация числовых переменных"
   ]
  },
  {
   "cell_type": "code",
   "execution_count": 44,
   "metadata": {
    "execution": {
     "iopub.execute_input": "2021-02-10T11:11:36.771698Z",
     "iopub.status.busy": "2021-02-10T11:11:36.770019Z",
     "iopub.status.idle": "2021-02-10T11:11:36.790144Z",
     "shell.execute_reply": "2021-02-10T11:11:36.790629Z"
    },
    "papermill": {
     "duration": 0.128899,
     "end_time": "2021-02-10T11:11:36.790816",
     "exception": false,
     "start_time": "2021-02-10T11:11:36.661917",
     "status": "completed"
    },
    "tags": []
   },
   "outputs": [
    {
     "data": {
      "text/plain": [
       "array([[ 1.7140286 , -0.41881524, -0.20868816, -0.28179035, -0.78608043],\n",
       "       [ 1.5428669 , -0.41881524,  0.7454193 ,  0.77056313, -0.70847239],\n",
       "       [-1.39079061,  2.62166169,  0.99398785, -0.28179035, -0.05283405],\n",
       "       ...,\n",
       "       [-0.66236702,  2.62166169,  1.92990055, -0.28179035,  0.94213866],\n",
       "       [-1.13081103,  1.49951212,  1.32589037,  0.33379697, -0.05283405],\n",
       "       [ 0.03162921, -0.41881524,  0.79493285,  0.33379697, -1.04778283]])"
      ]
     },
     "execution_count": 44,
     "metadata": {},
     "output_type": "execute_result"
    }
   ],
   "source": [
    "StandardScaler().fit_transform(df[num_cols].values)"
   ]
  },
  {
   "cell_type": "code",
   "execution_count": 45,
   "metadata": {
    "execution": {
     "iopub.execute_input": "2021-02-10T11:11:37.000699Z",
     "iopub.status.busy": "2021-02-10T11:11:37.000098Z",
     "iopub.status.idle": "2021-02-10T11:11:37.022514Z",
     "shell.execute_reply": "2021-02-10T11:11:37.021975Z"
    },
    "papermill": {
     "duration": 0.129295,
     "end_time": "2021-02-10T11:11:37.022654",
     "exception": false,
     "start_time": "2021-02-10T11:11:36.893359",
     "status": "completed"
    },
    "tags": []
   },
   "outputs": [
    {
     "data": {
      "text/html": [
       "<div>\n",
       "<style scoped>\n",
       "    .dataframe tbody tr th:only-of-type {\n",
       "        vertical-align: middle;\n",
       "    }\n",
       "\n",
       "    .dataframe tbody tr th {\n",
       "        vertical-align: top;\n",
       "    }\n",
       "\n",
       "    .dataframe thead th {\n",
       "        text-align: right;\n",
       "    }\n",
       "</style>\n",
       "<table border=\"1\" class=\"dataframe\">\n",
       "  <thead>\n",
       "    <tr style=\"text-align: right;\">\n",
       "      <th></th>\n",
       "      <th>client_id</th>\n",
       "      <th>app_date</th>\n",
       "      <th>sex</th>\n",
       "      <th>age</th>\n",
       "      <th>car</th>\n",
       "      <th>car_type</th>\n",
       "      <th>decline_app_cnt</th>\n",
       "      <th>good_work</th>\n",
       "      <th>score_bki</th>\n",
       "      <th>bki_request_cnt</th>\n",
       "      <th>...</th>\n",
       "      <th>work_address_2</th>\n",
       "      <th>work_address_3</th>\n",
       "      <th>sna_1</th>\n",
       "      <th>sna_2</th>\n",
       "      <th>sna_3</th>\n",
       "      <th>sna_4</th>\n",
       "      <th>first_time_1</th>\n",
       "      <th>first_time_2</th>\n",
       "      <th>first_time_3</th>\n",
       "      <th>first_time_4</th>\n",
       "    </tr>\n",
       "  </thead>\n",
       "  <tbody>\n",
       "    <tr>\n",
       "      <th>0</th>\n",
       "      <td>25905</td>\n",
       "      <td>2014-02-01</td>\n",
       "      <td>1</td>\n",
       "      <td>4.143135</td>\n",
       "      <td>1</td>\n",
       "      <td>1</td>\n",
       "      <td>0.0</td>\n",
       "      <td>0</td>\n",
       "      <td>-2.008753</td>\n",
       "      <td>0.693147</td>\n",
       "      <td>...</td>\n",
       "      <td>1</td>\n",
       "      <td>0</td>\n",
       "      <td>0</td>\n",
       "      <td>0</td>\n",
       "      <td>0</td>\n",
       "      <td>1</td>\n",
       "      <td>1</td>\n",
       "      <td>0</td>\n",
       "      <td>0</td>\n",
       "      <td>0</td>\n",
       "    </tr>\n",
       "    <tr>\n",
       "      <th>1</th>\n",
       "      <td>63161</td>\n",
       "      <td>2014-03-12</td>\n",
       "      <td>0</td>\n",
       "      <td>4.094345</td>\n",
       "      <td>0</td>\n",
       "      <td>0</td>\n",
       "      <td>0.0</td>\n",
       "      <td>0</td>\n",
       "      <td>-1.532276</td>\n",
       "      <td>1.386294</td>\n",
       "      <td>...</td>\n",
       "      <td>0</td>\n",
       "      <td>1</td>\n",
       "      <td>0</td>\n",
       "      <td>0</td>\n",
       "      <td>0</td>\n",
       "      <td>1</td>\n",
       "      <td>1</td>\n",
       "      <td>0</td>\n",
       "      <td>0</td>\n",
       "      <td>0</td>\n",
       "    </tr>\n",
       "  </tbody>\n",
       "</table>\n",
       "<p>2 rows × 41 columns</p>\n",
       "</div>"
      ],
      "text/plain": [
       "   client_id   app_date  sex       age  car  car_type  decline_app_cnt  \\\n",
       "0      25905 2014-02-01    1  4.143135    1         1              0.0   \n",
       "1      63161 2014-03-12    0  4.094345    0         0              0.0   \n",
       "\n",
       "   good_work  score_bki  bki_request_cnt  ...  work_address_2  work_address_3  \\\n",
       "0          0  -2.008753         0.693147  ...               1               0   \n",
       "1          0  -1.532276         1.386294  ...               0               1   \n",
       "\n",
       "   sna_1  sna_2  sna_3  sna_4  first_time_1  first_time_2  first_time_3  \\\n",
       "0      0      0      0      1             1             0             0   \n",
       "1      0      0      0      1             1             0             0   \n",
       "\n",
       "   first_time_4  \n",
       "0             0  \n",
       "1             0  \n",
       "\n",
       "[2 rows x 41 columns]"
      ]
     },
     "metadata": {},
     "output_type": "display_data"
    }
   ],
   "source": [
    "display(df.head(2))"
   ]
  },
  {
   "cell_type": "markdown",
   "metadata": {
    "papermill": {
     "duration": 0.103498,
     "end_time": "2021-02-10T11:11:37.230201",
     "exception": false,
     "start_time": "2021-02-10T11:11:37.126703",
     "status": "completed"
    },
    "tags": []
   },
   "source": [
    "Удаление нечисловых критериев"
   ]
  },
  {
   "cell_type": "code",
   "execution_count": 46,
   "metadata": {
    "execution": {
     "iopub.execute_input": "2021-02-10T11:11:37.448060Z",
     "iopub.status.busy": "2021-02-10T11:11:37.447127Z",
     "iopub.status.idle": "2021-02-10T11:11:37.451852Z",
     "shell.execute_reply": "2021-02-10T11:11:37.451240Z"
    },
    "papermill": {
     "duration": 0.118298,
     "end_time": "2021-02-10T11:11:37.451995",
     "exception": false,
     "start_time": "2021-02-10T11:11:37.333697",
     "status": "completed"
    },
    "tags": []
   },
   "outputs": [],
   "source": [
    "df.drop(['app_date'], axis=1, inplace=True)"
   ]
  },
  {
   "cell_type": "markdown",
   "metadata": {
    "papermill": {
     "duration": 0.103878,
     "end_time": "2021-02-10T11:11:37.661828",
     "exception": false,
     "start_time": "2021-02-10T11:11:37.557950",
     "status": "completed"
    },
    "tags": []
   },
   "source": [
    "## 6. Построение модели\n",
    "---\n",
    "### Разбиваем датасет на тренировочный и тестовый"
   ]
  },
  {
   "cell_type": "code",
   "execution_count": 47,
   "metadata": {
    "execution": {
     "iopub.execute_input": "2021-02-10T11:11:37.877220Z",
     "iopub.status.busy": "2021-02-10T11:11:37.876444Z",
     "iopub.status.idle": "2021-02-10T11:11:37.911174Z",
     "shell.execute_reply": "2021-02-10T11:11:37.910590Z"
    },
    "papermill": {
     "duration": 0.145351,
     "end_time": "2021-02-10T11:11:37.911316",
     "exception": false,
     "start_time": "2021-02-10T11:11:37.765965",
     "status": "completed"
    },
    "tags": []
   },
   "outputs": [],
   "source": [
    "train_data = df.query('Train == 1').drop(['Train', 'client_id'], axis=1)\n",
    "test_data = df.query('Train == 0').drop(['Train', 'client_id'], axis=1)\n",
    "\n",
    "y = train_data.default.values            # наш таргет\n",
    "X = train_data.drop(['default'], axis=1)"
   ]
  },
  {
   "cell_type": "code",
   "execution_count": 48,
   "metadata": {
    "execution": {
     "iopub.execute_input": "2021-02-10T11:11:38.126597Z",
     "iopub.status.busy": "2021-02-10T11:11:38.125941Z",
     "iopub.status.idle": "2021-02-10T11:11:38.141866Z",
     "shell.execute_reply": "2021-02-10T11:11:38.141321Z"
    },
    "papermill": {
     "duration": 0.127535,
     "end_time": "2021-02-10T11:11:38.142018",
     "exception": false,
     "start_time": "2021-02-10T11:11:38.014483",
     "status": "completed"
    },
    "tags": []
   },
   "outputs": [],
   "source": [
    "# Воспользуемся специальной функцие train_test_split для разбивки тестовых данных\n",
    "# выделим 20% данных на валидацию (параметр test_size)\n",
    "X_train, X_test, y_train, y_test = train_test_split(X, y, test_size=0.2, random_state=RANDOM_SEED)"
   ]
  },
  {
   "cell_type": "code",
   "execution_count": 49,
   "metadata": {
    "execution": {
     "iopub.execute_input": "2021-02-10T11:11:38.354058Z",
     "iopub.status.busy": "2021-02-10T11:11:38.353349Z",
     "iopub.status.idle": "2021-02-10T11:11:38.358118Z",
     "shell.execute_reply": "2021-02-10T11:11:38.357452Z"
    },
    "papermill": {
     "duration": 0.112965,
     "end_time": "2021-02-10T11:11:38.358265",
     "exception": false,
     "start_time": "2021-02-10T11:11:38.245300",
     "status": "completed"
    },
    "tags": []
   },
   "outputs": [
    {
     "data": {
      "text/plain": [
       "((36349, 38), (73799, 38), (73799, 37), (59039, 37), (14760, 37))"
      ]
     },
     "execution_count": 49,
     "metadata": {},
     "output_type": "execute_result"
    }
   ],
   "source": [
    "# проверяем\n",
    "test_data.shape, train_data.shape, X.shape, X_train.shape, X_test.shape"
   ]
  },
  {
   "cell_type": "markdown",
   "metadata": {
    "papermill": {
     "duration": 0.103195,
     "end_time": "2021-02-10T11:11:38.564790",
     "exception": false,
     "start_time": "2021-02-10T11:11:38.461595",
     "status": "completed"
    },
    "tags": []
   },
   "source": [
    "### Обучаем модель, генерируем результат и сравниваем с тестом"
   ]
  },
  {
   "cell_type": "code",
   "execution_count": 50,
   "metadata": {
    "execution": {
     "iopub.execute_input": "2021-02-10T11:11:38.780370Z",
     "iopub.status.busy": "2021-02-10T11:11:38.779645Z",
     "iopub.status.idle": "2021-02-10T11:11:39.922065Z",
     "shell.execute_reply": "2021-02-10T11:11:39.922569Z"
    },
    "papermill": {
     "duration": 1.254698,
     "end_time": "2021-02-10T11:11:39.922760",
     "exception": false,
     "start_time": "2021-02-10T11:11:38.668062",
     "status": "completed"
    },
    "tags": []
   },
   "outputs": [
    {
     "name": "stderr",
     "output_type": "stream",
     "text": [
      "/opt/conda/lib/python3.7/site-packages/sklearn/linear_model/_logistic.py:764: ConvergenceWarning: lbfgs failed to converge (status=1):\n",
      "STOP: TOTAL NO. of ITERATIONS REACHED LIMIT.\n",
      "\n",
      "Increase the number of iterations (max_iter) or scale the data as shown in:\n",
      "    https://scikit-learn.org/stable/modules/preprocessing.html\n",
      "Please also refer to the documentation for alternative solver options:\n",
      "    https://scikit-learn.org/stable/modules/linear_model.html#logistic-regression\n",
      "  extra_warning_msg=_LOGISTIC_SOLVER_CONVERGENCE_MSG)\n"
     ]
    }
   ],
   "source": [
    "# первая модель на автомате\n",
    "model = LogisticRegression(random_state=RANDOM_SEED)\n",
    "\n",
    "model.fit(X_train, y_train)\n",
    "\n",
    "y_pred_prob = model.predict_proba(X_test)[:,1]\n",
    "y_pred = model.predict(X_test)"
   ]
  },
  {
   "cell_type": "markdown",
   "metadata": {
    "papermill": {
     "duration": 0.104417,
     "end_time": "2021-02-10T11:11:40.132060",
     "exception": false,
     "start_time": "2021-02-10T11:11:40.027643",
     "status": "completed"
    },
    "tags": []
   },
   "source": [
    "### Оценка качества модели\n",
    "---\n",
    "### Качественные метрики"
   ]
  },
  {
   "cell_type": "code",
   "execution_count": 51,
   "metadata": {
    "execution": {
     "iopub.execute_input": "2021-02-10T11:11:40.346244Z",
     "iopub.status.busy": "2021-02-10T11:11:40.345545Z",
     "iopub.status.idle": "2021-02-10T11:11:40.374334Z",
     "shell.execute_reply": "2021-02-10T11:11:40.373662Z"
    },
    "papermill": {
     "duration": 0.13767,
     "end_time": "2021-02-10T11:11:40.374475",
     "exception": false,
     "start_time": "2021-02-10T11:11:40.236805",
     "status": "completed"
    },
    "tags": []
   },
   "outputs": [
    {
     "name": "stdout",
     "output_type": "stream",
     "text": [
      "Accuracy: 0.8750\n",
      "Precision: 0.4043\n",
      "Recall: 0.0208\n",
      "F1: 0.0396\n"
     ]
    }
   ],
   "source": [
    "print_metrics()"
   ]
  },
  {
   "cell_type": "markdown",
   "metadata": {
    "papermill": {
     "duration": 0.103775,
     "end_time": "2021-02-10T11:11:40.581928",
     "exception": false,
     "start_time": "2021-02-10T11:11:40.478153",
     "status": "completed"
    },
    "tags": []
   },
   "source": [
    "### Матрица ошибок"
   ]
  },
  {
   "cell_type": "code",
   "execution_count": 52,
   "metadata": {
    "execution": {
     "iopub.execute_input": "2021-02-10T11:11:40.795688Z",
     "iopub.status.busy": "2021-02-10T11:11:40.794779Z",
     "iopub.status.idle": "2021-02-10T11:11:41.045785Z",
     "shell.execute_reply": "2021-02-10T11:11:41.044584Z"
    },
    "papermill": {
     "duration": 0.360712,
     "end_time": "2021-02-10T11:11:41.045950",
     "exception": false,
     "start_time": "2021-02-10T11:11:40.685238",
     "status": "completed"
    },
    "tags": []
   },
   "outputs": [
    {
     "data": {
      "image/png": "[encoded data removed]",
      "text/plain": [
       "<Figure size 460.8x316.8 with 2 Axes>"
      ]
     },
     "metadata": {
      "needs_background": "light"
     },
     "output_type": "display_data"
    }
   ],
   "source": [
    "confusion_matrix_f(['Дефолтный','Не дефолтный'], y_test, y_pred, 1, normalize=False)"
   ]
  },
  {
   "cell_type": "markdown",
   "metadata": {
    "papermill": {
     "duration": 0.10657,
     "end_time": "2021-02-10T11:11:41.259493",
     "exception": false,
     "start_time": "2021-02-10T11:11:41.152923",
     "status": "completed"
    },
    "tags": []
   },
   "source": [
    "### ROC-AUC Кривая"
   ]
  },
  {
   "cell_type": "code",
   "execution_count": 53,
   "metadata": {
    "execution": {
     "iopub.execute_input": "2021-02-10T11:11:41.475351Z",
     "iopub.status.busy": "2021-02-10T11:11:41.474650Z",
     "iopub.status.idle": "2021-02-10T11:11:41.711686Z",
     "shell.execute_reply": "2021-02-10T11:11:41.711009Z"
    },
    "papermill": {
     "duration": 0.347087,
     "end_time": "2021-02-10T11:11:41.711848",
     "exception": false,
     "start_time": "2021-02-10T11:11:41.364761",
     "status": "completed"
    },
    "tags": []
   },
   "outputs": [
    {
     "data": {
      "image/png": "[encoded data removed]",
      "text/plain": [
       "<Figure size 576x432 with 1 Axes>"
      ]
     },
     "metadata": {},
     "output_type": "display_data"
    }
   ],
   "source": [
    "ROC_curve_with_area(y_test, y_pred_prob, 1.1)"
   ]
  },
  {
   "cell_type": "markdown",
   "metadata": {
    "papermill": {
     "duration": 0.109044,
     "end_time": "2021-02-10T11:11:41.930236",
     "exception": false,
     "start_time": "2021-02-10T11:11:41.821192",
     "status": "completed"
    },
    "tags": []
   },
   "source": [
    "Несмотря на хорошие показатель ROC-AUC мы очень плохо угадали дефолтных клинетов, что видно по confusion-matrix и метрике F1"
   ]
  },
  {
   "cell_type": "markdown",
   "metadata": {
    "papermill": {
     "duration": 0.155802,
     "end_time": "2021-02-10T11:11:42.194143",
     "exception": false,
     "start_time": "2021-02-10T11:11:42.038341",
     "status": "completed"
    },
    "tags": []
   },
   "source": [
    "### Precision-Recall кривая"
   ]
  },
  {
   "cell_type": "code",
   "execution_count": 54,
   "metadata": {
    "execution": {
     "iopub.execute_input": "2021-02-10T11:11:42.413299Z",
     "iopub.status.busy": "2021-02-10T11:11:42.412625Z",
     "iopub.status.idle": "2021-02-10T11:11:42.625249Z",
     "shell.execute_reply": "2021-02-10T11:11:42.624691Z"
    },
    "papermill": {
     "duration": 0.324721,
     "end_time": "2021-02-10T11:11:42.625389",
     "exception": false,
     "start_time": "2021-02-10T11:11:42.300668",
     "status": "completed"
    },
    "tags": []
   },
   "outputs": [
    {
     "data": {
      "image/png": "[encoded data removed]",
      "text/plain": [
       "<Figure size 576x432 with 1 Axes>"
      ]
     },
     "metadata": {},
     "output_type": "display_data"
    }
   ],
   "source": [
    "PR_curve_with_area(y_test, y_pred, 1.1)"
   ]
  },
  {
   "cell_type": "markdown",
   "metadata": {
    "papermill": {
     "duration": 0.110314,
     "end_time": "2021-02-10T11:11:42.844223",
     "exception": false,
     "start_time": "2021-02-10T11:11:42.733909",
     "status": "completed"
    },
    "tags": []
   },
   "source": [
    "### Кросс-валидация"
   ]
  },
  {
   "cell_type": "code",
   "execution_count": 55,
   "metadata": {
    "execution": {
     "iopub.execute_input": "2021-02-10T11:11:43.070830Z",
     "iopub.status.busy": "2021-02-10T11:11:43.069873Z",
     "iopub.status.idle": "2021-02-10T11:11:45.960243Z",
     "shell.execute_reply": "2021-02-10T11:11:45.960801Z"
    },
    "papermill": {
     "duration": 3.007005,
     "end_time": "2021-02-10T11:11:45.960983",
     "exception": false,
     "start_time": "2021-02-10T11:11:42.953978",
     "status": "completed"
    },
    "tags": []
   },
   "outputs": [
    {
     "name": "stderr",
     "output_type": "stream",
     "text": [
      "/opt/conda/lib/python3.7/site-packages/sklearn/linear_model/_logistic.py:764: ConvergenceWarning: lbfgs failed to converge (status=1):\n",
      "STOP: TOTAL NO. of ITERATIONS REACHED LIMIT.\n",
      "\n",
      "Increase the number of iterations (max_iter) or scale the data as shown in:\n",
      "    https://scikit-learn.org/stable/modules/preprocessing.html\n",
      "Please also refer to the documentation for alternative solver options:\n",
      "    https://scikit-learn.org/stable/modules/linear_model.html#logistic-regression\n",
      "  extra_warning_msg=_LOGISTIC_SOLVER_CONVERGENCE_MSG)\n",
      "/opt/conda/lib/python3.7/site-packages/sklearn/linear_model/_logistic.py:764: ConvergenceWarning: lbfgs failed to converge (status=1):\n",
      "STOP: TOTAL NO. of ITERATIONS REACHED LIMIT.\n",
      "\n",
      "Increase the number of iterations (max_iter) or scale the data as shown in:\n",
      "    https://scikit-learn.org/stable/modules/preprocessing.html\n",
      "Please also refer to the documentation for alternative solver options:\n",
      "    https://scikit-learn.org/stable/modules/linear_model.html#logistic-regression\n",
      "  extra_warning_msg=_LOGISTIC_SOLVER_CONVERGENCE_MSG)\n",
      "/opt/conda/lib/python3.7/site-packages/sklearn/linear_model/_logistic.py:764: ConvergenceWarning: lbfgs failed to converge (status=1):\n",
      "STOP: TOTAL NO. of ITERATIONS REACHED LIMIT.\n",
      "\n",
      "Increase the number of iterations (max_iter) or scale the data as shown in:\n",
      "    https://scikit-learn.org/stable/modules/preprocessing.html\n",
      "Please also refer to the documentation for alternative solver options:\n",
      "    https://scikit-learn.org/stable/modules/linear_model.html#logistic-regression\n",
      "  extra_warning_msg=_LOGISTIC_SOLVER_CONVERGENCE_MSG)\n",
      "/opt/conda/lib/python3.7/site-packages/sklearn/linear_model/_logistic.py:764: ConvergenceWarning: lbfgs failed to converge (status=1):\n",
      "STOP: TOTAL NO. of ITERATIONS REACHED LIMIT.\n",
      "\n",
      "Increase the number of iterations (max_iter) or scale the data as shown in:\n",
      "    https://scikit-learn.org/stable/modules/preprocessing.html\n",
      "Please also refer to the documentation for alternative solver options:\n",
      "    https://scikit-learn.org/stable/modules/linear_model.html#logistic-regression\n",
      "  extra_warning_msg=_LOGISTIC_SOLVER_CONVERGENCE_MSG)\n",
      "/opt/conda/lib/python3.7/site-packages/sklearn/linear_model/_logistic.py:764: ConvergenceWarning: lbfgs failed to converge (status=1):\n",
      "STOP: TOTAL NO. of ITERATIONS REACHED LIMIT.\n",
      "\n",
      "Increase the number of iterations (max_iter) or scale the data as shown in:\n",
      "    https://scikit-learn.org/stable/modules/preprocessing.html\n",
      "Please also refer to the documentation for alternative solver options:\n",
      "    https://scikit-learn.org/stable/modules/linear_model.html#logistic-regression\n",
      "  extra_warning_msg=_LOGISTIC_SOLVER_CONVERGENCE_MSG)\n",
      "/opt/conda/lib/python3.7/site-packages/sklearn/linear_model/_logistic.py:764: ConvergenceWarning: lbfgs failed to converge (status=1):\n",
      "STOP: TOTAL NO. of ITERATIONS REACHED LIMIT.\n",
      "\n",
      "Increase the number of iterations (max_iter) or scale the data as shown in:\n",
      "    https://scikit-learn.org/stable/modules/preprocessing.html\n",
      "Please also refer to the documentation for alternative solver options:\n",
      "    https://scikit-learn.org/stable/modules/linear_model.html#logistic-regression\n",
      "  extra_warning_msg=_LOGISTIC_SOLVER_CONVERGENCE_MSG)\n",
      "/opt/conda/lib/python3.7/site-packages/sklearn/linear_model/_logistic.py:764: ConvergenceWarning: lbfgs failed to converge (status=1):\n",
      "STOP: TOTAL NO. of ITERATIONS REACHED LIMIT.\n",
      "\n",
      "Increase the number of iterations (max_iter) or scale the data as shown in:\n",
      "    https://scikit-learn.org/stable/modules/preprocessing.html\n",
      "Please also refer to the documentation for alternative solver options:\n",
      "    https://scikit-learn.org/stable/modules/linear_model.html#logistic-regression\n",
      "  extra_warning_msg=_LOGISTIC_SOLVER_CONVERGENCE_MSG)\n",
      "/opt/conda/lib/python3.7/site-packages/sklearn/linear_model/_logistic.py:764: ConvergenceWarning: lbfgs failed to converge (status=1):\n",
      "STOP: TOTAL NO. of ITERATIONS REACHED LIMIT.\n",
      "\n",
      "Increase the number of iterations (max_iter) or scale the data as shown in:\n",
      "    https://scikit-learn.org/stable/modules/preprocessing.html\n",
      "Please also refer to the documentation for alternative solver options:\n",
      "    https://scikit-learn.org/stable/modules/linear_model.html#logistic-regression\n",
      "  extra_warning_msg=_LOGISTIC_SOLVER_CONVERGENCE_MSG)\n",
      "/opt/conda/lib/python3.7/site-packages/sklearn/linear_model/_logistic.py:764: ConvergenceWarning: lbfgs failed to converge (status=1):\n",
      "STOP: TOTAL NO. of ITERATIONS REACHED LIMIT.\n",
      "\n",
      "Increase the number of iterations (max_iter) or scale the data as shown in:\n",
      "    https://scikit-learn.org/stable/modules/preprocessing.html\n",
      "Please also refer to the documentation for alternative solver options:\n",
      "    https://scikit-learn.org/stable/modules/linear_model.html#logistic-regression\n",
      "  extra_warning_msg=_LOGISTIC_SOLVER_CONVERGENCE_MSG)\n",
      "/opt/conda/lib/python3.7/site-packages/sklearn/linear_model/_logistic.py:764: ConvergenceWarning: lbfgs failed to converge (status=1):\n",
      "STOP: TOTAL NO. of ITERATIONS REACHED LIMIT.\n",
      "\n",
      "Increase the number of iterations (max_iter) or scale the data as shown in:\n",
      "    https://scikit-learn.org/stable/modules/preprocessing.html\n",
      "Please also refer to the documentation for alternative solver options:\n",
      "    https://scikit-learn.org/stable/modules/linear_model.html#logistic-regression\n",
      "  extra_warning_msg=_LOGISTIC_SOLVER_CONVERGENCE_MSG)\n"
     ]
    },
    {
     "data": {
      "image/png": "[encoded data removed]",
      "text/plain": [
       "<Figure size 864x432 with 1 Axes>"
      ]
     },
     "metadata": {},
     "output_type": "display_data"
    }
   ],
   "source": [
    "temp_vec = cross_validate(model, X_test, y_test, cv=10, scoring='roc_auc', return_train_score=True);\n",
    "vis_cross_val_score('ROC-AUC', temp_vec, 0.745, 1.1)"
   ]
  },
  {
   "cell_type": "markdown",
   "metadata": {
    "papermill": {
     "duration": 0.138213,
     "end_time": "2021-02-10T11:11:46.229142",
     "exception": false,
     "start_time": "2021-02-10T11:11:46.090929",
     "status": "completed"
    },
    "tags": []
   },
   "source": [
    "***Резюме*** - модель, которую мы получили, очень плохая, несмотря на то, что целевая метрика ROC-AUC достаточно высокая (=0.745).  \n",
    "Потому что:\n",
    "- Из матрицы ошибок видно, что мы почти не угадываем дефолтных клиентов (38 из 1789). Об этом также свидетествует метрика полнота recall = 0.020799, которая собственно описывает этот момент. Таким образом все клиенты попали в ошибку второго рода, а это очень плохо для банка, так как мы будем выдавать кредиты людям которые их не смогут вернуть - риск потерять все деньги. \n",
    "- Но целевая переменная площадь под ROC кривой оказалась не такой уж плохой. Дело в том, что эта кривая плохо оценивает эффективность алгоритма на несбалансированных данных, поэтому мы добавили Precision-Recall кривую и увидели что эффективность нашего алгоритма оставляет желать лучшего.  \n",
    "\n",
    "Кросс валидация показала дисперсию ошибки на тесте 0.014 и так как мы не использовали перемешивания, то можно сказать что модель лучше работает на крайних фолдах, чем на средних. В анализе признака data приводилась аналитика, которая говорила о том что вероятно в середине периода в банке проводилась какая-то акция и порог выдачи кредита снижался. Но мы в своей работе стремились создать надежный алгоритм который снижает ошибку второго рода (снижает потери банка) и достаточно стабильно работает (f1, PRC_AUC) при оптимальных значениях точности, а не гнались за просто высоким результатом на лидерборде."
   ]
  },
  {
   "cell_type": "markdown",
   "metadata": {
    "papermill": {
     "duration": 0.113881,
     "end_time": "2021-02-10T11:11:46.459285",
     "exception": false,
     "start_time": "2021-02-10T11:11:46.345404",
     "status": "completed"
    },
    "tags": []
   },
   "source": [
    "### Поиск оптимальных параметров модели"
   ]
  },
  {
   "cell_type": "code",
   "execution_count": 56,
   "metadata": {
    "execution": {
     "iopub.execute_input": "2021-02-10T11:11:46.701675Z",
     "iopub.status.busy": "2021-02-10T11:11:46.700598Z",
     "iopub.status.idle": "2021-02-10T11:13:37.699406Z",
     "shell.execute_reply": "2021-02-10T11:13:37.698839Z"
    },
    "papermill": {
     "duration": 111.125854,
     "end_time": "2021-02-10T11:13:37.699554",
     "exception": false,
     "start_time": "2021-02-10T11:11:46.573700",
     "status": "completed"
    },
    "tags": []
   },
   "outputs": [
    {
     "name": "stdout",
     "output_type": "stream",
     "text": [
      "\tC: 1.0\n",
      "\tclass_weight: 'balanced'\n",
      "\tdual: False\n",
      "\tfit_intercept: True\n",
      "\tintercept_scaling: 1\n",
      "\tl1_ratio: None\n",
      "\tmax_iter: 50\n",
      "\tmulti_class: 'auto'\n",
      "\tn_jobs: None\n",
      "\tpenalty: 'l2'\n",
      "\trandom_state: 42\n",
      "\tsolver: 'sag'\n",
      "\ttol: 0.001\n",
      "\tverbose: 0\n",
      "\twarm_start: False\n",
      "Accuracy: 0.6687\n",
      "Precision: 0.2256\n",
      "Recall: 0.6891\n",
      "F1: 0.3399\n"
     ]
    },
    {
     "name": "stderr",
     "output_type": "stream",
     "text": [
      "/opt/conda/lib/python3.7/site-packages/sklearn/linear_model/_sag.py:330: ConvergenceWarning: The max_iter was reached which means the coef_ did not converge\n",
      "  \"the coef_ did not converge\", ConvergenceWarning)\n"
     ]
    }
   ],
   "source": [
    "# запускаем GridSearch на небольшом кол-ве итераций max_iter=50 и с достаточно большой дельтой останова tol1e-3\n",
    "# чтобы получить оптимальные параметры модели в первом приближении\n",
    "model = LogisticRegression(random_state=RANDOM_SEED)\n",
    "\n",
    "iter_ = 50\n",
    "epsilon_stop = 1e-3\n",
    "\n",
    "param_grid = [\n",
    "    {'penalty': ['l1'], \n",
    "     'solver': ['liblinear', 'lbfgs'], \n",
    "     'class_weight':['none', 'balanced'], \n",
    "     'multi_class': ['auto','ovr'], \n",
    "     'max_iter':[iter_],\n",
    "     'tol':[epsilon_stop]},\n",
    "    {'penalty': ['l2'], \n",
    "     'solver': ['newton-cg', 'lbfgs', 'liblinear', 'sag', 'saga'], \n",
    "     'class_weight':['none', 'balanced'], \n",
    "     'multi_class': ['auto','ovr'], \n",
    "     'max_iter':[iter_],\n",
    "     'tol':[epsilon_stop]},\n",
    "    {'penalty': ['none'], \n",
    "     'solver': ['newton-cg', 'lbfgs', 'sag', 'saga'], \n",
    "     'class_weight':['none', 'balanced'], \n",
    "     'multi_class': ['auto','ovr'], \n",
    "     'max_iter':[iter_],\n",
    "     'tol':[epsilon_stop]},\n",
    "]\n",
    "gridsearch = GridSearchCV(model, param_grid, scoring='f1', n_jobs=-1, cv=5)\n",
    "gridsearch.fit(X_train, y_train)\n",
    "model = gridsearch.best_estimator_\n",
    "##печатаем параметры\n",
    "best_parameters = model.get_params()\n",
    "for param_name in sorted(best_parameters.keys()):\n",
    "        print('\\t%s: %r' % (param_name, best_parameters[param_name]))\n",
    "    ##печатаем метрики\n",
    "preds = model.predict(X_test)\n",
    "print('Accuracy: %.4f' % accuracy_score(y_test, preds))\n",
    "print('Precision: %.4f' % precision_score(y_test, preds))\n",
    "print('Recall: %.4f' % recall_score(y_test, preds))\n",
    "print('F1: %.4f' % f1_score(y_test, preds))"
   ]
  },
  {
   "cell_type": "markdown",
   "metadata": {
    "papermill": {
     "duration": 0.116825,
     "end_time": "2021-02-10T11:13:37.930603",
     "exception": false,
     "start_time": "2021-02-10T11:13:37.813778",
     "status": "completed"
    },
    "tags": []
   },
   "source": [
    "***Резюме*** - метрика f1 подросла почти в 10 раз, что вселяет надежду на то, что модель теперь будет работать эффективнее. Построим модель на этих параметрах и посмотрим, но сначала заново пересоберем трейн и тест перемешав выборку"
   ]
  },
  {
   "cell_type": "code",
   "execution_count": 57,
   "metadata": {
    "execution": {
     "iopub.execute_input": "2021-02-10T11:13:38.167244Z",
     "iopub.status.busy": "2021-02-10T11:13:38.166557Z",
     "iopub.status.idle": "2021-02-10T11:13:41.430082Z",
     "shell.execute_reply": "2021-02-10T11:13:41.429335Z"
    },
    "papermill": {
     "duration": 3.383163,
     "end_time": "2021-02-10T11:13:41.430231",
     "exception": false,
     "start_time": "2021-02-10T11:13:38.047068",
     "status": "completed"
    },
    "tags": []
   },
   "outputs": [
    {
     "name": "stderr",
     "output_type": "stream",
     "text": [
      "/opt/conda/lib/python3.7/site-packages/sklearn/linear_model/_sag.py:330: ConvergenceWarning: The max_iter was reached which means the coef_ did not converge\n",
      "  \"the coef_ did not converge\", ConvergenceWarning)\n"
     ]
    }
   ],
   "source": [
    "# вторая модель на параметрах после первой оптимизации\n",
    "model = LogisticRegression(random_state=RANDOM_SEED, \n",
    "                           C=1, \n",
    "                           class_weight= 'balanced', \n",
    "                           dual= False, \n",
    "                           fit_intercept= True, \n",
    "                           intercept_scaling= 1, \n",
    "                           l1_ratio= None, \n",
    "                           multi_class= 'auto', \n",
    "                           n_jobs= None, \n",
    "                           penalty= 'l2', \n",
    "                           solver = 'sag', \n",
    "                           verbose= 0, \n",
    "                           warm_start= False)\n",
    "\n",
    "model.fit(X_train, y_train)\n",
    "\n",
    "y_pred_prob = model.predict_proba(X_test)[:,1]\n",
    "y_pred = model.predict(X_test)"
   ]
  },
  {
   "cell_type": "markdown",
   "metadata": {
    "papermill": {
     "duration": 0.115241,
     "end_time": "2021-02-10T11:13:41.661880",
     "exception": false,
     "start_time": "2021-02-10T11:13:41.546639",
     "status": "completed"
    },
    "tags": []
   },
   "source": [
    "### Оценка качества модели на оптимальных параметрах "
   ]
  },
  {
   "cell_type": "markdown",
   "metadata": {
    "papermill": {
     "duration": 0.118701,
     "end_time": "2021-02-10T11:13:41.896898",
     "exception": false,
     "start_time": "2021-02-10T11:13:41.778197",
     "status": "completed"
    },
    "tags": []
   },
   "source": [
    "### Матрица ошибок"
   ]
  },
  {
   "cell_type": "code",
   "execution_count": 58,
   "metadata": {
    "execution": {
     "iopub.execute_input": "2021-02-10T11:13:42.137940Z",
     "iopub.status.busy": "2021-02-10T11:13:42.137256Z",
     "iopub.status.idle": "2021-02-10T11:13:42.396585Z",
     "shell.execute_reply": "2021-02-10T11:13:42.397138Z"
    },
    "papermill": {
     "duration": 0.382372,
     "end_time": "2021-02-10T11:13:42.397332",
     "exception": false,
     "start_time": "2021-02-10T11:13:42.014960",
     "status": "completed"
    },
    "tags": []
   },
   "outputs": [
    {
     "data": {
      "image/png": "[encoded data removed]",
      "text/plain": [
       "<Figure size 460.8x316.8 with 2 Axes>"
      ]
     },
     "metadata": {},
     "output_type": "display_data"
    }
   ],
   "source": [
    "confusion_matrix_f(['Дефолтный','Не дефолтный'], y_test, y_pred, 1, normalize=False)"
   ]
  },
  {
   "cell_type": "markdown",
   "metadata": {
    "papermill": {
     "duration": 0.118008,
     "end_time": "2021-02-10T11:13:42.633790",
     "exception": false,
     "start_time": "2021-02-10T11:13:42.515782",
     "status": "completed"
    },
    "tags": []
   },
   "source": [
    "### ROC-AUC Кривая"
   ]
  },
  {
   "cell_type": "code",
   "execution_count": 59,
   "metadata": {
    "execution": {
     "iopub.execute_input": "2021-02-10T11:13:42.877152Z",
     "iopub.status.busy": "2021-02-10T11:13:42.876450Z",
     "iopub.status.idle": "2021-02-10T11:13:43.109178Z",
     "shell.execute_reply": "2021-02-10T11:13:43.108583Z"
    },
    "papermill": {
     "duration": 0.356385,
     "end_time": "2021-02-10T11:13:43.109320",
     "exception": false,
     "start_time": "2021-02-10T11:13:42.752935",
     "status": "completed"
    },
    "tags": []
   },
   "outputs": [
    {
     "data": {
      "image/png": "[encoded data removed]",
      "text/plain": [
       "<Figure size 576x432 with 1 Axes>"
      ]
     },
     "metadata": {},
     "output_type": "display_data"
    }
   ],
   "source": [
    "ROC_curve_with_area(y_test, y_pred_prob, 1.1)"
   ]
  },
  {
   "cell_type": "markdown",
   "metadata": {
    "papermill": {
     "duration": 0.120117,
     "end_time": "2021-02-10T11:13:43.348924",
     "exception": false,
     "start_time": "2021-02-10T11:13:43.228807",
     "status": "completed"
    },
    "tags": []
   },
   "source": [
    "### Precision-Recall кривая"
   ]
  },
  {
   "cell_type": "code",
   "execution_count": 60,
   "metadata": {
    "execution": {
     "iopub.execute_input": "2021-02-10T11:13:43.593615Z",
     "iopub.status.busy": "2021-02-10T11:13:43.592990Z",
     "iopub.status.idle": "2021-02-10T11:13:43.807827Z",
     "shell.execute_reply": "2021-02-10T11:13:43.807244Z"
    },
    "papermill": {
     "duration": 0.339758,
     "end_time": "2021-02-10T11:13:43.807969",
     "exception": false,
     "start_time": "2021-02-10T11:13:43.468211",
     "status": "completed"
    },
    "tags": []
   },
   "outputs": [
    {
     "data": {
      "image/png": "[encoded data removed]",
      "text/plain": [
       "<Figure size 576x432 with 1 Axes>"
      ]
     },
     "metadata": {},
     "output_type": "display_data"
    }
   ],
   "source": [
    "PR_curve_with_area(y_test, y_pred, 1.1)"
   ]
  },
  {
   "cell_type": "markdown",
   "metadata": {
    "papermill": {
     "duration": 0.121323,
     "end_time": "2021-02-10T11:13:44.051776",
     "exception": false,
     "start_time": "2021-02-10T11:13:43.930453",
     "status": "completed"
    },
    "tags": []
   },
   "source": [
    "### Кросс-валидация"
   ]
  },
  {
   "cell_type": "code",
   "execution_count": 61,
   "metadata": {
    "execution": {
     "iopub.execute_input": "2021-02-10T11:13:44.298774Z",
     "iopub.status.busy": "2021-02-10T11:13:44.297780Z",
     "iopub.status.idle": "2021-02-10T11:13:50.773991Z",
     "shell.execute_reply": "2021-02-10T11:13:50.773439Z"
    },
    "papermill": {
     "duration": 6.602054,
     "end_time": "2021-02-10T11:13:50.774136",
     "exception": false,
     "start_time": "2021-02-10T11:13:44.172082",
     "status": "completed"
    },
    "tags": []
   },
   "outputs": [
    {
     "name": "stderr",
     "output_type": "stream",
     "text": [
      "/opt/conda/lib/python3.7/site-packages/sklearn/linear_model/_sag.py:330: ConvergenceWarning: The max_iter was reached which means the coef_ did not converge\n",
      "  \"the coef_ did not converge\", ConvergenceWarning)\n",
      "/opt/conda/lib/python3.7/site-packages/sklearn/linear_model/_sag.py:330: ConvergenceWarning: The max_iter was reached which means the coef_ did not converge\n",
      "  \"the coef_ did not converge\", ConvergenceWarning)\n",
      "/opt/conda/lib/python3.7/site-packages/sklearn/linear_model/_sag.py:330: ConvergenceWarning: The max_iter was reached which means the coef_ did not converge\n",
      "  \"the coef_ did not converge\", ConvergenceWarning)\n",
      "/opt/conda/lib/python3.7/site-packages/sklearn/linear_model/_sag.py:330: ConvergenceWarning: The max_iter was reached which means the coef_ did not converge\n",
      "  \"the coef_ did not converge\", ConvergenceWarning)\n",
      "/opt/conda/lib/python3.7/site-packages/sklearn/linear_model/_sag.py:330: ConvergenceWarning: The max_iter was reached which means the coef_ did not converge\n",
      "  \"the coef_ did not converge\", ConvergenceWarning)\n",
      "/opt/conda/lib/python3.7/site-packages/sklearn/linear_model/_sag.py:330: ConvergenceWarning: The max_iter was reached which means the coef_ did not converge\n",
      "  \"the coef_ did not converge\", ConvergenceWarning)\n",
      "/opt/conda/lib/python3.7/site-packages/sklearn/linear_model/_sag.py:330: ConvergenceWarning: The max_iter was reached which means the coef_ did not converge\n",
      "  \"the coef_ did not converge\", ConvergenceWarning)\n",
      "/opt/conda/lib/python3.7/site-packages/sklearn/linear_model/_sag.py:330: ConvergenceWarning: The max_iter was reached which means the coef_ did not converge\n",
      "  \"the coef_ did not converge\", ConvergenceWarning)\n",
      "/opt/conda/lib/python3.7/site-packages/sklearn/linear_model/_sag.py:330: ConvergenceWarning: The max_iter was reached which means the coef_ did not converge\n",
      "  \"the coef_ did not converge\", ConvergenceWarning)\n",
      "/opt/conda/lib/python3.7/site-packages/sklearn/linear_model/_sag.py:330: ConvergenceWarning: The max_iter was reached which means the coef_ did not converge\n",
      "  \"the coef_ did not converge\", ConvergenceWarning)\n"
     ]
    },
    {
     "data": {
      "image/png": "[encoded data removed]",
      "text/plain": [
       "<Figure size 864x432 with 1 Axes>"
      ]
     },
     "metadata": {},
     "output_type": "display_data"
    }
   ],
   "source": [
    "temp_vec = cross_validate(model, X_test, y_test, cv=10, scoring='roc_auc', return_train_score=True);\n",
    "vis_cross_val_score('ROC-AUC', temp_vec, 0.745, 1.1)"
   ]
  },
  {
   "cell_type": "markdown",
   "metadata": {
    "papermill": {
     "duration": 0.130065,
     "end_time": "2021-02-10T11:13:51.032940",
     "exception": false,
     "start_time": "2021-02-10T11:13:50.902875",
     "status": "completed"
    },
    "tags": []
   },
   "source": [
    "#### Сравнение с предыдущей моделью  \n",
    "Recall (до 0.68 с 0.022) и f1 (до 0.34) заметно выросли, Precision, Accuracy упали, ROC-AUC остался почти на том-же месте.  Мы можем ожидать уменьшение ошибки второго рода, что видно из матрицы. Модель должна лучше себя вести на менее сбалансированных данных. Дисперсия не изменилась на кросс-валидации, так-что можно еще можно попробовать оптимизировать модель: подобрать параметры или убрать некоторые признаки. "
   ]
  },
  {
   "cell_type": "markdown",
   "metadata": {
    "papermill": {
     "duration": 0.125173,
     "end_time": "2021-02-10T11:13:51.285549",
     "exception": false,
     "start_time": "2021-02-10T11:13:51.160376",
     "status": "completed"
    },
    "tags": []
   },
   "source": [
    "### Проверка нулевых коэффициэнтов при регуляризации первого порядка"
   ]
  },
  {
   "cell_type": "code",
   "execution_count": 62,
   "metadata": {
    "execution": {
     "iopub.execute_input": "2021-02-10T11:13:51.548522Z",
     "iopub.status.busy": "2021-02-10T11:13:51.547801Z",
     "iopub.status.idle": "2021-02-10T11:14:15.531966Z",
     "shell.execute_reply": "2021-02-10T11:14:15.531245Z"
    },
    "papermill": {
     "duration": 24.120987,
     "end_time": "2021-02-10T11:14:15.532120",
     "exception": false,
     "start_time": "2021-02-10T11:13:51.411133",
     "status": "completed"
    },
    "tags": []
   },
   "outputs": [
    {
     "data": {
      "text/html": [
       "<div>\n",
       "<style scoped>\n",
       "    .dataframe tbody tr th:only-of-type {\n",
       "        vertical-align: middle;\n",
       "    }\n",
       "\n",
       "    .dataframe tbody tr th {\n",
       "        vertical-align: top;\n",
       "    }\n",
       "\n",
       "    .dataframe thead th {\n",
       "        text-align: right;\n",
       "    }\n",
       "</style>\n",
       "<table border=\"1\" class=\"dataframe\">\n",
       "  <thead>\n",
       "    <tr style=\"text-align: right;\">\n",
       "      <th></th>\n",
       "      <th>имя признака</th>\n",
       "      <th>коэффициент модели</th>\n",
       "    </tr>\n",
       "  </thead>\n",
       "  <tbody>\n",
       "    <tr>\n",
       "      <th>0</th>\n",
       "      <td>score_bki</td>\n",
       "      <td>0.972922</td>\n",
       "    </tr>\n",
       "    <tr>\n",
       "      <th>1</th>\n",
       "      <td>region_rating_80</td>\n",
       "      <td>-0.752233</td>\n",
       "    </tr>\n",
       "    <tr>\n",
       "      <th>2</th>\n",
       "      <td>region_rating_20</td>\n",
       "      <td>0.692989</td>\n",
       "    </tr>\n",
       "    <tr>\n",
       "      <th>3</th>\n",
       "      <td>education_1</td>\n",
       "      <td>0.678450</td>\n",
       "    </tr>\n",
       "    <tr>\n",
       "      <th>4</th>\n",
       "      <td>region_rating_30</td>\n",
       "      <td>0.580220</td>\n",
       "    </tr>\n",
       "    <tr>\n",
       "      <th>5</th>\n",
       "      <td>home_address_2</td>\n",
       "      <td>0.530877</td>\n",
       "    </tr>\n",
       "    <tr>\n",
       "      <th>6</th>\n",
       "      <td>education_2</td>\n",
       "      <td>0.527620</td>\n",
       "    </tr>\n",
       "    <tr>\n",
       "      <th>7</th>\n",
       "      <td>region_rating_70</td>\n",
       "      <td>-0.425688</td>\n",
       "    </tr>\n",
       "    <tr>\n",
       "      <th>8</th>\n",
       "      <td>decline_app_cnt</td>\n",
       "      <td>0.411107</td>\n",
       "    </tr>\n",
       "    <tr>\n",
       "      <th>9</th>\n",
       "      <td>work_address_3</td>\n",
       "      <td>0.407047</td>\n",
       "    </tr>\n",
       "    <tr>\n",
       "      <th>10</th>\n",
       "      <td>region_rating_40</td>\n",
       "      <td>0.380420</td>\n",
       "    </tr>\n",
       "    <tr>\n",
       "      <th>11</th>\n",
       "      <td>work_address_2</td>\n",
       "      <td>0.300811</td>\n",
       "    </tr>\n",
       "    <tr>\n",
       "      <th>12</th>\n",
       "      <td>sex</td>\n",
       "      <td>0.283173</td>\n",
       "    </tr>\n",
       "    <tr>\n",
       "      <th>13</th>\n",
       "      <td>bki_request_cnt</td>\n",
       "      <td>0.280915</td>\n",
       "    </tr>\n",
       "    <tr>\n",
       "      <th>14</th>\n",
       "      <td>car_type</td>\n",
       "      <td>-0.280886</td>\n",
       "    </tr>\n",
       "    <tr>\n",
       "      <th>15</th>\n",
       "      <td>education_3</td>\n",
       "      <td>0.263896</td>\n",
       "    </tr>\n",
       "    <tr>\n",
       "      <th>16</th>\n",
       "      <td>sna_4</td>\n",
       "      <td>0.247430</td>\n",
       "    </tr>\n",
       "    <tr>\n",
       "      <th>17</th>\n",
       "      <td>education_5</td>\n",
       "      <td>-0.246898</td>\n",
       "    </tr>\n",
       "    <tr>\n",
       "      <th>18</th>\n",
       "      <td>foreign_passport</td>\n",
       "      <td>-0.228540</td>\n",
       "    </tr>\n",
       "    <tr>\n",
       "      <th>19</th>\n",
       "      <td>sna_1</td>\n",
       "      <td>-0.224676</td>\n",
       "    </tr>\n",
       "    <tr>\n",
       "      <th>20</th>\n",
       "      <td>good_work</td>\n",
       "      <td>-0.193232</td>\n",
       "    </tr>\n",
       "    <tr>\n",
       "      <th>21</th>\n",
       "      <td>first_time_2</td>\n",
       "      <td>0.186592</td>\n",
       "    </tr>\n",
       "    <tr>\n",
       "      <th>22</th>\n",
       "      <td>first_time_4</td>\n",
       "      <td>-0.178337</td>\n",
       "    </tr>\n",
       "    <tr>\n",
       "      <th>23</th>\n",
       "      <td>first_time_1</td>\n",
       "      <td>0.107928</td>\n",
       "    </tr>\n",
       "    <tr>\n",
       "      <th>24</th>\n",
       "      <td>region_rating_50</td>\n",
       "      <td>0.107788</td>\n",
       "    </tr>\n",
       "    <tr>\n",
       "      <th>25</th>\n",
       "      <td>age</td>\n",
       "      <td>-0.104028</td>\n",
       "    </tr>\n",
       "    <tr>\n",
       "      <th>26</th>\n",
       "      <td>home_address_3</td>\n",
       "      <td>0.067288</td>\n",
       "    </tr>\n",
       "    <tr>\n",
       "      <th>27</th>\n",
       "      <td>sna_2</td>\n",
       "      <td>0.066295</td>\n",
       "    </tr>\n",
       "    <tr>\n",
       "      <th>28</th>\n",
       "      <td>car</td>\n",
       "      <td>-0.010067</td>\n",
       "    </tr>\n",
       "    <tr>\n",
       "      <th>29</th>\n",
       "      <td>days</td>\n",
       "      <td>-0.004339</td>\n",
       "    </tr>\n",
       "    <tr>\n",
       "      <th>30</th>\n",
       "      <td>income</td>\n",
       "      <td>0.000371</td>\n",
       "    </tr>\n",
       "    <tr>\n",
       "      <th>31</th>\n",
       "      <td>home_address_1</td>\n",
       "      <td>0.000000</td>\n",
       "    </tr>\n",
       "    <tr>\n",
       "      <th>32</th>\n",
       "      <td>education_4</td>\n",
       "      <td>0.000000</td>\n",
       "    </tr>\n",
       "    <tr>\n",
       "      <th>33</th>\n",
       "      <td>work_address_1</td>\n",
       "      <td>0.000000</td>\n",
       "    </tr>\n",
       "    <tr>\n",
       "      <th>34</th>\n",
       "      <td>region_rating_60</td>\n",
       "      <td>0.000000</td>\n",
       "    </tr>\n",
       "    <tr>\n",
       "      <th>35</th>\n",
       "      <td>sna_3</td>\n",
       "      <td>0.000000</td>\n",
       "    </tr>\n",
       "    <tr>\n",
       "      <th>36</th>\n",
       "      <td>first_time_3</td>\n",
       "      <td>0.000000</td>\n",
       "    </tr>\n",
       "  </tbody>\n",
       "</table>\n",
       "</div>"
      ],
      "text/plain": [
       "        имя признака  коэффициент модели\n",
       "0          score_bki            0.972922\n",
       "1   region_rating_80           -0.752233\n",
       "2   region_rating_20            0.692989\n",
       "3        education_1            0.678450\n",
       "4   region_rating_30            0.580220\n",
       "5     home_address_2            0.530877\n",
       "6        education_2            0.527620\n",
       "7   region_rating_70           -0.425688\n",
       "8    decline_app_cnt            0.411107\n",
       "9     work_address_3            0.407047\n",
       "10  region_rating_40            0.380420\n",
       "11    work_address_2            0.300811\n",
       "12               sex            0.283173\n",
       "13   bki_request_cnt            0.280915\n",
       "14          car_type           -0.280886\n",
       "15       education_3            0.263896\n",
       "16             sna_4            0.247430\n",
       "17       education_5           -0.246898\n",
       "18  foreign_passport           -0.228540\n",
       "19             sna_1           -0.224676\n",
       "20         good_work           -0.193232\n",
       "21      first_time_2            0.186592\n",
       "22      first_time_4           -0.178337\n",
       "23      first_time_1            0.107928\n",
       "24  region_rating_50            0.107788\n",
       "25               age           -0.104028\n",
       "26    home_address_3            0.067288\n",
       "27             sna_2            0.066295\n",
       "28               car           -0.010067\n",
       "29              days           -0.004339\n",
       "30            income            0.000371\n",
       "31    home_address_1            0.000000\n",
       "32       education_4            0.000000\n",
       "33    work_address_1            0.000000\n",
       "34  region_rating_60            0.000000\n",
       "35             sna_3            0.000000\n",
       "36      first_time_3            0.000000"
      ]
     },
     "metadata": {},
     "output_type": "display_data"
    }
   ],
   "source": [
    "# регуляризация первого порядка l1 позволяет оценить по нулевым или слишком низким коэффициентам признаки,\n",
    "# которые не нравятся модели (в них могут быть выбросы или неподходящий формат)\n",
    "# можно это поможет избавиться от большой дисперсии при кросс-валидации\n",
    "model = LogisticRegression(random_state=RANDOM_SEED, \n",
    "                           C=1, \n",
    "                           class_weight= 'balanced', \n",
    "                           dual= False, \n",
    "                           fit_intercept= True, \n",
    "                           intercept_scaling= 1, \n",
    "                           l1_ratio= None, \n",
    "                           multi_class= 'auto', \n",
    "                           n_jobs= None, \n",
    "                           penalty= 'l1', \n",
    "                           solver = 'liblinear', \n",
    "                           verbose= 0, \n",
    "                           warm_start= False)\n",
    "\n",
    "model.fit(X_train, y_train)\n",
    "\n",
    "display(model_coef(X_train.columns, model.coef_[0]))"
   ]
  },
  {
   "cell_type": "markdown",
   "metadata": {
    "papermill": {
     "duration": 0.129353,
     "end_time": "2021-02-10T11:14:15.788766",
     "exception": false,
     "start_time": "2021-02-10T11:14:15.659413",
     "status": "completed"
    },
    "tags": []
   },
   "source": [
    "***Резюме*** - влияние score_bki самое большое, следом идут разные значения рейтинга региона, школьное образование, кол-во отказов.  \n",
    "Кандидаты на удаление:\n",
    "- work_address_1\n",
    "- home_address_1\n",
    "- sna_3\n",
    "- region_rating_60\n",
    "- first_time_3\n",
    "- education_4\n",
    "- income\n",
    "- days\n",
    "- car\n",
    "- sna_2\n",
    "- home_address_3"
   ]
  },
  {
   "cell_type": "code",
   "execution_count": 63,
   "metadata": {
    "execution": {
     "iopub.execute_input": "2021-02-10T11:14:16.051014Z",
     "iopub.status.busy": "2021-02-10T11:14:16.050272Z",
     "iopub.status.idle": "2021-02-10T11:14:16.053861Z",
     "shell.execute_reply": "2021-02-10T11:14:16.053250Z"
    },
    "papermill": {
     "duration": 0.136394,
     "end_time": "2021-02-10T11:14:16.054021",
     "exception": false,
     "start_time": "2021-02-10T11:14:15.917627",
     "status": "completed"
    },
    "tags": []
   },
   "outputs": [],
   "source": [
    "# формируем список отсева признаков\n",
    "drop_list1 = ['work_address_1', 'home_address_1', 'sna_3', 'region_rating_60', 'first_time_3', 'education_4',\n",
    "                  'income','days','sna_2','home_address_3']"
   ]
  },
  {
   "cell_type": "code",
   "execution_count": 64,
   "metadata": {
    "execution": {
     "iopub.execute_input": "2021-02-10T11:14:16.318951Z",
     "iopub.status.busy": "2021-02-10T11:14:16.314860Z",
     "iopub.status.idle": "2021-02-10T11:14:16.367094Z",
     "shell.execute_reply": "2021-02-10T11:14:16.367634Z"
    },
    "papermill": {
     "duration": 0.187071,
     "end_time": "2021-02-10T11:14:16.367827",
     "exception": false,
     "start_time": "2021-02-10T11:14:16.180756",
     "status": "completed"
    },
    "tags": []
   },
   "outputs": [],
   "source": [
    "#заново формируем выборки для обучения без этих признаков\n",
    "train = df.query('Train == 1').drop(['Train', 'client_id']+drop_list1, axis=1)\n",
    "test = df.query('Train == 0').drop(['Train', 'client_id']+drop_list1, axis=1)\n",
    "\n",
    "X = train.drop(['default'], axis=1)\n",
    "y = train.default.values\n",
    "X_train, X_test, y_train, y_test = train_test_split(X, y, test_size=0.2, random_state=RANDOM_SEED)"
   ]
  },
  {
   "cell_type": "markdown",
   "metadata": {
    "papermill": {
     "duration": 0.125715,
     "end_time": "2021-02-10T11:14:16.619407",
     "exception": false,
     "start_time": "2021-02-10T11:14:16.493692",
     "status": "completed"
    },
    "tags": []
   },
   "source": [
    "### Проверка качества модели после удаления признаков"
   ]
  },
  {
   "cell_type": "code",
   "execution_count": 65,
   "metadata": {
    "execution": {
     "iopub.execute_input": "2021-02-10T11:14:16.883553Z",
     "iopub.status.busy": "2021-02-10T11:14:16.882485Z",
     "iopub.status.idle": "2021-02-10T11:14:18.817268Z",
     "shell.execute_reply": "2021-02-10T11:14:18.816310Z"
    },
    "papermill": {
     "duration": 2.070958,
     "end_time": "2021-02-10T11:14:18.817481",
     "exception": false,
     "start_time": "2021-02-10T11:14:16.746523",
     "status": "completed"
    },
    "tags": []
   },
   "outputs": [
    {
     "name": "stdout",
     "output_type": "stream",
     "text": [
      "Accuracy: 0.6654\n",
      "Precision: 0.2232\n",
      "Recall: 0.6869\n",
      "F1: 0.3370\n"
     ]
    }
   ],
   "source": [
    "# вторая модель на параметрах после первой оптимизации\n",
    "model = LogisticRegression(random_state=RANDOM_SEED, \n",
    "                           C=1, \n",
    "                           class_weight= 'balanced', \n",
    "                           dual= False, \n",
    "                           fit_intercept= True, \n",
    "                           intercept_scaling= 1, \n",
    "                           l1_ratio= None, \n",
    "                           multi_class= 'auto', \n",
    "                           n_jobs= -1, \n",
    "                           penalty= 'none', \n",
    "                           solver = 'newton-cg', \n",
    "                           verbose= 0, \n",
    "                           warm_start= False)\n",
    "\n",
    "model.fit(X_train, y_train)\n",
    "\n",
    "y_pred_prob = model.predict_proba(X_test)[:,1]\n",
    "y_pred = model.predict(X_test)\n",
    "\n",
    "print('Accuracy: %.4f' % accuracy_score(y_test, y_pred))\n",
    "print('Precision: %.4f' % precision_score(y_test, y_pred))\n",
    "print('Recall: %.4f' % recall_score(y_test, y_pred))\n",
    "print('F1: %.4f' % f1_score(y_test, y_pred))"
   ]
  },
  {
   "cell_type": "code",
   "execution_count": 66,
   "metadata": {
    "execution": {
     "iopub.execute_input": "2021-02-10T11:14:19.105325Z",
     "iopub.status.busy": "2021-02-10T11:14:19.104192Z",
     "iopub.status.idle": "2021-02-10T11:14:23.002471Z",
     "shell.execute_reply": "2021-02-10T11:14:23.001812Z"
    },
    "papermill": {
     "duration": 4.043562,
     "end_time": "2021-02-10T11:14:23.002627",
     "exception": false,
     "start_time": "2021-02-10T11:14:18.959065",
     "status": "completed"
    },
    "tags": []
   },
   "outputs": [
    {
     "data": {
      "image/png": "[encoded data removed]",
      "text/plain": [
       "<Figure size 864x432 with 1 Axes>"
      ]
     },
     "metadata": {},
     "output_type": "display_data"
    }
   ],
   "source": [
    "temp_vec = cross_validate(model, X_test, y_test, cv=10, scoring='roc_auc', return_train_score=True)\n",
    "vis_cross_val_score('ROC-AUC', temp_vec, 0.744262, 1.1)"
   ]
  },
  {
   "cell_type": "markdown",
   "metadata": {
    "papermill": {
     "duration": 0.129205,
     "end_time": "2021-02-10T11:14:23.263141",
     "exception": false,
     "start_time": "2021-02-10T11:14:23.133936",
     "status": "completed"
    },
    "tags": []
   },
   "source": [
    "Дисперсия в кросс-валидации не изменилась, метрики F1, Recall, Precision уменьшились на тясячные"
   ]
  },
  {
   "cell_type": "markdown",
   "metadata": {
    "papermill": {
     "duration": 0.128909,
     "end_time": "2021-02-10T11:14:23.521819",
     "exception": false,
     "start_time": "2021-02-10T11:14:23.392910",
     "status": "completed"
    },
    "tags": []
   },
   "source": [
    "## Submission"
   ]
  },
  {
   "cell_type": "code",
   "execution_count": 67,
   "metadata": {
    "execution": {
     "iopub.execute_input": "2021-02-10T11:14:23.788407Z",
     "iopub.status.busy": "2021-02-10T11:14:23.787409Z",
     "iopub.status.idle": "2021-02-10T11:14:23.814089Z",
     "shell.execute_reply": "2021-02-10T11:14:23.813463Z"
    },
    "papermill": {
     "duration": 0.162792,
     "end_time": "2021-02-10T11:14:23.814238",
     "exception": false,
     "start_time": "2021-02-10T11:14:23.651446",
     "status": "completed"
    },
    "tags": []
   },
   "outputs": [],
   "source": [
    "train = df.query('Train == 1').drop(['Train', 'client_id']+drop_list1, axis=1)\n",
    "test = df.query('Train == 0').drop(['Train', 'client_id']+drop_list1, axis=1)"
   ]
  },
  {
   "cell_type": "code",
   "execution_count": 68,
   "metadata": {
    "execution": {
     "iopub.execute_input": "2021-02-10T11:14:24.089903Z",
     "iopub.status.busy": "2021-02-10T11:14:24.089187Z",
     "iopub.status.idle": "2021-02-10T11:14:24.095910Z",
     "shell.execute_reply": "2021-02-10T11:14:24.095347Z"
    },
    "papermill": {
     "duration": 0.144301,
     "end_time": "2021-02-10T11:14:24.096054",
     "exception": false,
     "start_time": "2021-02-10T11:14:23.951753",
     "status": "completed"
    },
    "tags": []
   },
   "outputs": [],
   "source": [
    "X_train=train.drop(['default'], axis=1)\n",
    "y_train = train.default.values\n",
    "X_test = test.drop(['default'], axis=1)"
   ]
  },
  {
   "cell_type": "code",
   "execution_count": 69,
   "metadata": {
    "execution": {
     "iopub.execute_input": "2021-02-10T11:14:24.361828Z",
     "iopub.status.busy": "2021-02-10T11:14:24.360728Z",
     "iopub.status.idle": "2021-02-10T11:14:24.365317Z",
     "shell.execute_reply": "2021-02-10T11:14:24.364732Z"
    },
    "papermill": {
     "duration": 0.140506,
     "end_time": "2021-02-10T11:14:24.365463",
     "exception": false,
     "start_time": "2021-02-10T11:14:24.224957",
     "status": "completed"
    },
    "tags": []
   },
   "outputs": [
    {
     "data": {
      "text/plain": [
       "((36349, 28), (73799, 28), (73799, 27), (73799,), (36349, 27))"
      ]
     },
     "execution_count": 69,
     "metadata": {},
     "output_type": "execute_result"
    }
   ],
   "source": [
    "# проверяем\n",
    "test.shape, train.shape, X_train.shape, y_train.shape, X_test.shape"
   ]
  },
  {
   "cell_type": "code",
   "execution_count": 70,
   "metadata": {
    "execution": {
     "iopub.execute_input": "2021-02-10T11:14:24.636769Z",
     "iopub.status.busy": "2021-02-10T11:14:24.636075Z",
     "iopub.status.idle": "2021-02-10T11:14:27.100277Z",
     "shell.execute_reply": "2021-02-10T11:14:27.099701Z"
    },
    "papermill": {
     "duration": 2.602934,
     "end_time": "2021-02-10T11:14:27.100429",
     "exception": false,
     "start_time": "2021-02-10T11:14:24.497495",
     "status": "completed"
    },
    "tags": []
   },
   "outputs": [],
   "source": [
    "LogisticRegression(C=2.15, \n",
    "                           penalty='l1', \n",
    "                           multi_class = 'ovr', \n",
    "                           class_weight='balanced', \n",
    "                           solver='saga', \n",
    "                           random_state=RANDOM_SEED,\n",
    "                           max_iter = 2000)\n",
    "\n",
    "model.fit(X_train, y_train)\n",
    "\n",
    "y_pred_prob = model.predict_proba(X_test)[:,1]"
   ]
  },
  {
   "cell_type": "code",
   "execution_count": 71,
   "metadata": {
    "execution": {
     "iopub.execute_input": "2021-02-10T11:14:27.365959Z",
     "iopub.status.busy": "2021-02-10T11:14:27.365265Z",
     "iopub.status.idle": "2021-02-10T11:14:27.504564Z",
     "shell.execute_reply": "2021-02-10T11:14:27.505081Z"
    },
    "papermill": {
     "duration": 0.27495,
     "end_time": "2021-02-10T11:14:27.505275",
     "exception": false,
     "start_time": "2021-02-10T11:14:27.230325",
     "status": "completed"
    },
    "tags": []
   },
   "outputs": [],
   "source": [
    "submit = pd.DataFrame(df_test.client_id)\n",
    "submit['default']=y_pred_prob\n",
    "submit.to_csv('submission.csv', index=False)"
   ]
  }
 ],
 "metadata": {
  "kernelspec": {
   "display_name": "Python 3",
   "language": "python",
   "name": "python3"
  },
  "language_info": {
   "codemirror_mode": {
    "name": "ipython",
    "version": 3
   },
   "file_extension": ".py",
   "mimetype": "text/x-python",
   "name": "python",
   "nbconvert_exporter": "python",
   "pygments_lexer": "ipython3",
   "version": "3.7.9"
  },
  "papermill": {
   "default_parameters": {},
   "duration": 205.003772,
   "end_time": "2021-02-10T11:14:28.748367",
   "environment_variables": {},
   "exception": null,
   "input_path": "__notebook__.ipynb",
   "output_path": "__notebook__.ipynb",
   "parameters": {},
   "start_time": "2021-02-10T11:11:03.744595",
   "version": "2.2.2"
  }
 },
 "nbformat": 4,
 "nbformat_minor": 4
}
